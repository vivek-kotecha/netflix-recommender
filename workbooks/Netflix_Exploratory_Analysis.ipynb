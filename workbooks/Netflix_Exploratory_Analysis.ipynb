{
 "cells": [
  {
   "cell_type": "markdown",
   "id": "polar-iceland",
   "metadata": {},
   "source": [
    "# Netflix Recommender System - (Draft2)\n",
    "\n",
    "<u>Summary of all the steps done in this notebook:</u>\n",
    "- directories for datasets have been set\n",
    "- dataset file names have been stored in different variables\n",
    "\n",
    "\n",
    "<u>For IMDB Work:</u>\n",
    "- Data Dictionary for IMDB datafile: https://www.imdb.com/interfaces/\n",
    "- Location for IMDB datafiles: https://datasets.imdbws.com/\n",
    "- \"\\N\" represents missing or null values in IMDB datasets. These have been replaced with np.nan\n",
    "\n",
    "\n",
    "<p>since the \"\\\\\" denotes escape character, regex has been applied to avoid the below error: \n",
    "    \n",
    "<b>SyntaxError:</b> (unicode error) 'unicodeescape' codec can't decode bytes in position 0-1: malformed \\N character escape\n",
    "</p>\n",
    "    \n",
    "\n",
    "<font color = \"blue\"> This color sentence indicates I am trying to talk to you! Mike and Vivek</font>    "
   ]
  },
  {
   "cell_type": "markdown",
   "id": "silver-resistance",
   "metadata": {},
   "source": [
    "### Import libraries"
   ]
  },
  {
   "cell_type": "code",
   "execution_count": 1,
   "id": "nuclear-summary",
   "metadata": {},
   "outputs": [],
   "source": [
    "import numpy as np\n",
    "import pandas as pd\n",
    "\n",
    "import matplotlib.pyplot as plt\n",
    "import seaborn as sns\n",
    "\n",
    "import os\n",
    "import re\n",
    "\n",
    "from cycler import cycler\n",
    "\n",
    "%matplotlib inline"
   ]
  },
  {
   "cell_type": "markdown",
   "id": "brazilian-copper",
   "metadata": {},
   "source": [
    "### Set default options"
   ]
  },
  {
   "cell_type": "code",
   "execution_count": 2,
   "id": "spatial-oasis",
   "metadata": {
    "scrolled": false
   },
   "outputs": [],
   "source": [
    "pd.options.display.max_colwidth = 100\n",
    "plt.style.use('dark_background')\n",
    "plt.rcParams[\"axes.prop_cycle\"] = cycler('color', [\"#f50000\", \"#f00000\", \"#e60000\", \"#e00000\", \"#db0000\", \"#d10000\", \n",
    "                                                   \"#cc0000\", \"#c70000\", \"#bd0000\", \"#b80000\", \"#b30000\", \"#a80000\", \n",
    "                                                   \"#a30000\", \"#9e0000\", \"#940000\"])\n",
    "plt.rcParams[\"figure.figsize\"] = [15, 5]\n",
    "plt.rcParams[\"axes.titlesize\"] = 20\n",
    "plt.rcParams[\"axes.labelsize\"] = 12\n",
    "plt.rcParams[\"font.size\"] = 14\n",
    "plt.rcParams[\"font.weight\"] = \"ultralight\""
   ]
  },
  {
   "cell_type": "code",
   "execution_count": 3,
   "id": "aging-effort",
   "metadata": {
    "scrolled": false
   },
   "outputs": [],
   "source": [
    "# plt.rcParams"
   ]
  },
  {
   "cell_type": "code",
   "execution_count": 4,
   "id": "promising-primary",
   "metadata": {},
   "outputs": [],
   "source": [
    "# directory that contains netflix dataset\n",
    "net_dir = os.getcwd() + \"\\\\Netflix_Dataset\\\\\"\n",
    "\n",
    "# zip file containing netflix dataset\n",
    "net_zipfile = \"Netflix_Titles.zip\"\n",
    "\n",
    "# Read the file and save in raw dataframe\n",
    "netflix_raw_data = pd.read_csv(net_dir + net_zipfile)"
   ]
  },
  {
   "cell_type": "code",
   "execution_count": 5,
   "id": "urban-balance",
   "metadata": {},
   "outputs": [
    {
     "name": "stdout",
     "output_type": "stream",
     "text": [
      "<class 'pandas.core.frame.DataFrame'>\n",
      "RangeIndex: 7787 entries, 0 to 7786\n",
      "Data columns (total 12 columns):\n",
      " #   Column        Non-Null Count  Dtype \n",
      "---  ------        --------------  ----- \n",
      " 0   show_id       7787 non-null   object\n",
      " 1   type          7787 non-null   object\n",
      " 2   title         7787 non-null   object\n",
      " 3   director      5398 non-null   object\n",
      " 4   cast          7069 non-null   object\n",
      " 5   country       7280 non-null   object\n",
      " 6   date_added    7777 non-null   object\n",
      " 7   release_year  7787 non-null   int64 \n",
      " 8   rating        7780 non-null   object\n",
      " 9   duration      7787 non-null   object\n",
      " 10  listed_in     7787 non-null   object\n",
      " 11  description   7787 non-null   object\n",
      "dtypes: int64(1), object(11)\n",
      "memory usage: 730.2+ KB\n"
     ]
    },
    {
     "data": {
      "text/html": [
       "<div>\n",
       "<style scoped>\n",
       "    .dataframe tbody tr th:only-of-type {\n",
       "        vertical-align: middle;\n",
       "    }\n",
       "\n",
       "    .dataframe tbody tr th {\n",
       "        vertical-align: top;\n",
       "    }\n",
       "\n",
       "    .dataframe thead th {\n",
       "        text-align: right;\n",
       "    }\n",
       "</style>\n",
       "<table border=\"1\" class=\"dataframe\">\n",
       "  <thead>\n",
       "    <tr style=\"text-align: right;\">\n",
       "      <th></th>\n",
       "      <th>release_year</th>\n",
       "    </tr>\n",
       "  </thead>\n",
       "  <tbody>\n",
       "    <tr>\n",
       "      <th>count</th>\n",
       "      <td>7787.000000</td>\n",
       "    </tr>\n",
       "    <tr>\n",
       "      <th>mean</th>\n",
       "      <td>2013.932580</td>\n",
       "    </tr>\n",
       "    <tr>\n",
       "      <th>std</th>\n",
       "      <td>8.757395</td>\n",
       "    </tr>\n",
       "    <tr>\n",
       "      <th>min</th>\n",
       "      <td>1925.000000</td>\n",
       "    </tr>\n",
       "    <tr>\n",
       "      <th>25%</th>\n",
       "      <td>2013.000000</td>\n",
       "    </tr>\n",
       "    <tr>\n",
       "      <th>50%</th>\n",
       "      <td>2017.000000</td>\n",
       "    </tr>\n",
       "    <tr>\n",
       "      <th>75%</th>\n",
       "      <td>2018.000000</td>\n",
       "    </tr>\n",
       "    <tr>\n",
       "      <th>max</th>\n",
       "      <td>2021.000000</td>\n",
       "    </tr>\n",
       "  </tbody>\n",
       "</table>\n",
       "</div>"
      ],
      "text/plain": [
       "       release_year\n",
       "count   7787.000000\n",
       "mean    2013.932580\n",
       "std        8.757395\n",
       "min     1925.000000\n",
       "25%     2013.000000\n",
       "50%     2017.000000\n",
       "75%     2018.000000\n",
       "max     2021.000000"
      ]
     },
     "execution_count": 5,
     "metadata": {},
     "output_type": "execute_result"
    }
   ],
   "source": [
    "# info and describe raw dataframe\n",
    "netflix_raw_data.info()\n",
    "netflix_raw_data.describe()"
   ]
  },
  {
   "cell_type": "code",
   "execution_count": 6,
   "id": "revolutionary-vienna",
   "metadata": {},
   "outputs": [
    {
     "name": "stdout",
     "output_type": "stream",
     "text": [
      "No. of duplicated records (if any): 0\n"
     ]
    }
   ],
   "source": [
    "# check for any duplicate records\n",
    "print(\"No. of duplicated records (if any):\", netflix_raw_data.duplicated().sum())"
   ]
  },
  {
   "cell_type": "code",
   "execution_count": 7,
   "id": "practical-authority",
   "metadata": {},
   "outputs": [
    {
     "data": {
      "text/plain": [
       "Movie      5377\n",
       "TV Show    2410\n",
       "Name: type, dtype: int64"
      ]
     },
     "execution_count": 7,
     "metadata": {},
     "output_type": "execute_result"
    }
   ],
   "source": [
    "# content category\n",
    "netflix_raw_data[\"type\"].value_counts()"
   ]
  },
  {
   "cell_type": "code",
   "execution_count": 8,
   "id": "biological-journey",
   "metadata": {},
   "outputs": [
    {
     "data": {
      "text/html": [
       "<div>\n",
       "<style scoped>\n",
       "    .dataframe tbody tr th:only-of-type {\n",
       "        vertical-align: middle;\n",
       "    }\n",
       "\n",
       "    .dataframe tbody tr th {\n",
       "        vertical-align: top;\n",
       "    }\n",
       "\n",
       "    .dataframe thead th {\n",
       "        text-align: right;\n",
       "    }\n",
       "</style>\n",
       "<table border=\"1\" class=\"dataframe\">\n",
       "  <thead>\n",
       "    <tr style=\"text-align: right;\">\n",
       "      <th></th>\n",
       "      <th>show_id</th>\n",
       "      <th>type</th>\n",
       "      <th>title</th>\n",
       "      <th>director</th>\n",
       "      <th>cast</th>\n",
       "      <th>country</th>\n",
       "      <th>date_added</th>\n",
       "      <th>release_year</th>\n",
       "      <th>rating</th>\n",
       "      <th>duration</th>\n",
       "      <th>listed_in</th>\n",
       "      <th>description</th>\n",
       "    </tr>\n",
       "  </thead>\n",
       "  <tbody>\n",
       "    <tr>\n",
       "      <th>7784</th>\n",
       "      <td>s7785</td>\n",
       "      <td>Movie</td>\n",
       "      <td>Zulu Man in Japan</td>\n",
       "      <td>NaN</td>\n",
       "      <td>Nasty C</td>\n",
       "      <td>NaN</td>\n",
       "      <td>September 25, 2020</td>\n",
       "      <td>2019</td>\n",
       "      <td>TV-MA</td>\n",
       "      <td>44 min</td>\n",
       "      <td>Documentaries, International Movies, Music &amp; Musicals</td>\n",
       "      <td>In this documentary, South African rapper Nasty C hits the stage and streets of Tokyo, introduci...</td>\n",
       "    </tr>\n",
       "    <tr>\n",
       "      <th>7785</th>\n",
       "      <td>s7786</td>\n",
       "      <td>TV Show</td>\n",
       "      <td>Zumbo's Just Desserts</td>\n",
       "      <td>NaN</td>\n",
       "      <td>Adriano Zumbo, Rachel Khoo</td>\n",
       "      <td>Australia</td>\n",
       "      <td>October 31, 2020</td>\n",
       "      <td>2019</td>\n",
       "      <td>TV-PG</td>\n",
       "      <td>1 Season</td>\n",
       "      <td>International TV Shows, Reality TV</td>\n",
       "      <td>Dessert wizard Adriano Zumbo looks for the next “Willy Wonka” in this tense competition that fin...</td>\n",
       "    </tr>\n",
       "    <tr>\n",
       "      <th>7786</th>\n",
       "      <td>s7787</td>\n",
       "      <td>Movie</td>\n",
       "      <td>ZZ TOP: THAT LITTLE OL' BAND FROM TEXAS</td>\n",
       "      <td>Sam Dunn</td>\n",
       "      <td>NaN</td>\n",
       "      <td>United Kingdom, Canada, United States</td>\n",
       "      <td>March 1, 2020</td>\n",
       "      <td>2019</td>\n",
       "      <td>TV-MA</td>\n",
       "      <td>90 min</td>\n",
       "      <td>Documentaries, Music &amp; Musicals</td>\n",
       "      <td>This documentary delves into the mystique behind the blues-rock trio and explores how the enigma...</td>\n",
       "    </tr>\n",
       "  </tbody>\n",
       "</table>\n",
       "</div>"
      ],
      "text/plain": [
       "     show_id     type                                    title  director  \\\n",
       "7784   s7785    Movie                        Zulu Man in Japan       NaN   \n",
       "7785   s7786  TV Show                    Zumbo's Just Desserts       NaN   \n",
       "7786   s7787    Movie  ZZ TOP: THAT LITTLE OL' BAND FROM TEXAS  Sam Dunn   \n",
       "\n",
       "                            cast                                country  \\\n",
       "7784                     Nasty C                                    NaN   \n",
       "7785  Adriano Zumbo, Rachel Khoo                              Australia   \n",
       "7786                         NaN  United Kingdom, Canada, United States   \n",
       "\n",
       "              date_added  release_year rating  duration  \\\n",
       "7784  September 25, 2020          2019  TV-MA    44 min   \n",
       "7785    October 31, 2020          2019  TV-PG  1 Season   \n",
       "7786       March 1, 2020          2019  TV-MA    90 min   \n",
       "\n",
       "                                                  listed_in  \\\n",
       "7784  Documentaries, International Movies, Music & Musicals   \n",
       "7785                     International TV Shows, Reality TV   \n",
       "7786                        Documentaries, Music & Musicals   \n",
       "\n",
       "                                                                                              description  \n",
       "7784  In this documentary, South African rapper Nasty C hits the stage and streets of Tokyo, introduci...  \n",
       "7785  Dessert wizard Adriano Zumbo looks for the next “Willy Wonka” in this tense competition that fin...  \n",
       "7786  This documentary delves into the mystique behind the blues-rock trio and explores how the enigma...  "
      ]
     },
     "execution_count": 8,
     "metadata": {},
     "output_type": "execute_result"
    }
   ],
   "source": [
    "# sample rows from netflix dataset\n",
    "netflix_raw_data.tail(3)"
   ]
  },
  {
   "cell_type": "code",
   "execution_count": 9,
   "id": "foreign-forth",
   "metadata": {},
   "outputs": [
    {
     "data": {
      "text/html": [
       "<div>\n",
       "<style scoped>\n",
       "    .dataframe tbody tr th:only-of-type {\n",
       "        vertical-align: middle;\n",
       "    }\n",
       "\n",
       "    .dataframe tbody tr th {\n",
       "        vertical-align: top;\n",
       "    }\n",
       "\n",
       "    .dataframe thead th {\n",
       "        text-align: right;\n",
       "    }\n",
       "</style>\n",
       "<table border=\"1\" class=\"dataframe\">\n",
       "  <thead>\n",
       "    <tr style=\"text-align: right;\">\n",
       "      <th></th>\n",
       "      <th>Column Name</th>\n",
       "      <th>No. of rows with missing values</th>\n",
       "      <th>Missing value as % (Netflix Dataset)</th>\n",
       "    </tr>\n",
       "  </thead>\n",
       "  <tbody>\n",
       "    <tr>\n",
       "      <th>0</th>\n",
       "      <td>director</td>\n",
       "      <td>2389</td>\n",
       "      <td>30.6793</td>\n",
       "    </tr>\n",
       "    <tr>\n",
       "      <th>1</th>\n",
       "      <td>cast</td>\n",
       "      <td>718</td>\n",
       "      <td>9.2205</td>\n",
       "    </tr>\n",
       "    <tr>\n",
       "      <th>2</th>\n",
       "      <td>country</td>\n",
       "      <td>507</td>\n",
       "      <td>6.5109</td>\n",
       "    </tr>\n",
       "    <tr>\n",
       "      <th>3</th>\n",
       "      <td>date_added</td>\n",
       "      <td>10</td>\n",
       "      <td>0.1284</td>\n",
       "    </tr>\n",
       "    <tr>\n",
       "      <th>4</th>\n",
       "      <td>rating</td>\n",
       "      <td>7</td>\n",
       "      <td>0.0899</td>\n",
       "    </tr>\n",
       "  </tbody>\n",
       "</table>\n",
       "</div>"
      ],
      "text/plain": [
       "  Column Name  No. of rows with missing values  \\\n",
       "0    director                             2389   \n",
       "1        cast                              718   \n",
       "2     country                              507   \n",
       "3  date_added                               10   \n",
       "4      rating                                7   \n",
       "\n",
       "  Missing value as % (Netflix Dataset)  \n",
       "0                              30.6793  \n",
       "1                               9.2205  \n",
       "2                               6.5109  \n",
       "3                               0.1284  \n",
       "4                               0.0899  "
      ]
     },
     "execution_count": 9,
     "metadata": {},
     "output_type": "execute_result"
    }
   ],
   "source": [
    "# this block of code only displays columns which have missing data and the % of rows with the missing values\n",
    "null_column_list = []\n",
    "\n",
    "# total no. of rows in dataset\n",
    "total_rows = netflix_raw_data.shape[0]\n",
    "\n",
    "for each_col in netflix_raw_data.columns:\n",
    "    if netflix_raw_data[each_col].isnull().sum() > 0:\n",
    "        null_sum = netflix_raw_data[each_col].isnull().sum()\n",
    "        null_perc = \"{:.4f}\".format(null_sum / total_rows * 100)\n",
    "        \n",
    "        null_column_list.append([each_col, null_sum, null_perc])\n",
    "        \n",
    "# delete the dummy variable        \n",
    "del total_rows\n",
    "        \n",
    "# display missing row count and % as a dataframe    \n",
    "pd.DataFrame(null_column_list, columns = [\"Column Name\", \"No. of rows with missing values\", \n",
    "                                          \"Missing value as % (Netflix Dataset)\"])"
   ]
  },
  {
   "cell_type": "markdown",
   "id": "alternative-strap",
   "metadata": {},
   "source": [
    "For the date_added column, we can't be sure as to when exactly the show was added to Netflix, so we will simply remove these records. \n",
    "\n",
    "Since the rating column has only 7 values missing, let's identify these titles and try to fill-up the rating column with the help of IMDB. Ofcourse this process is manual."
   ]
  },
  {
   "cell_type": "markdown",
   "id": "partial-climate",
   "metadata": {},
   "source": [
    "## Explore Netflix Dataset\n",
    "\n",
    "### type Column"
   ]
  },
  {
   "cell_type": "code",
   "execution_count": 10,
   "id": "designing-separation",
   "metadata": {
    "scrolled": false
   },
   "outputs": [
    {
     "data": {
      "image/png": "[encoded data removed]",
      "text/plain": [
       "<Figure size 864x216 with 1 Axes>"
      ]
     },
     "metadata": {},
     "output_type": "display_data"
    }
   ],
   "source": [
    "fig,ax = plt.subplots(figsize = (12,3))\n",
    "\n",
    "# plot content type as percentage\n",
    "sns.barplot(y = netflix_raw_data[\"type\"].value_counts(normalize = True).index,\n",
    "            x = netflix_raw_data[\"type\"].value_counts(normalize = True).mul(100).values, \n",
    "            ax = ax)\n",
    "\n",
    "ax.set_title(\"Content available on Netflix\")\n",
    "ax.set_xticklabels(\"\")\n",
    "\n",
    "# annotate each bar\n",
    "for p in ax.patches:\n",
    "    ax.annotate(\"{:.2f}%\".format(p.get_width()), [p.get_width()/ 2, p.get_y() + 0.5])\n",
    "    \n",
    "plt.show()    "
   ]
  },
  {
   "cell_type": "markdown",
   "id": "affecting-visibility",
   "metadata": {},
   "source": [
    "### rating Column"
   ]
  },
  {
   "cell_type": "code",
   "execution_count": 11,
   "id": "special-scott",
   "metadata": {},
   "outputs": [
    {
     "data": {
      "text/html": [
       "<div>\n",
       "<style scoped>\n",
       "    .dataframe tbody tr th:only-of-type {\n",
       "        vertical-align: middle;\n",
       "    }\n",
       "\n",
       "    .dataframe tbody tr th {\n",
       "        vertical-align: top;\n",
       "    }\n",
       "\n",
       "    .dataframe thead th {\n",
       "        text-align: right;\n",
       "    }\n",
       "</style>\n",
       "<table border=\"1\" class=\"dataframe\">\n",
       "  <thead>\n",
       "    <tr style=\"text-align: right;\">\n",
       "      <th></th>\n",
       "      <th>title</th>\n",
       "      <th>director</th>\n",
       "      <th>release_year</th>\n",
       "      <th>rating</th>\n",
       "    </tr>\n",
       "  </thead>\n",
       "  <tbody>\n",
       "    <tr>\n",
       "      <th>67</th>\n",
       "      <td>13TH: A Conversation with Oprah Winfrey &amp; Ava DuVernay</td>\n",
       "      <td>NaN</td>\n",
       "      <td>2017</td>\n",
       "      <td>NaN</td>\n",
       "    </tr>\n",
       "    <tr>\n",
       "      <th>2359</th>\n",
       "      <td>Gargantia on the Verdurous Planet</td>\n",
       "      <td>NaN</td>\n",
       "      <td>2013</td>\n",
       "      <td>NaN</td>\n",
       "    </tr>\n",
       "    <tr>\n",
       "      <th>3660</th>\n",
       "      <td>Little Lunch</td>\n",
       "      <td>NaN</td>\n",
       "      <td>2015</td>\n",
       "      <td>NaN</td>\n",
       "    </tr>\n",
       "    <tr>\n",
       "      <th>3736</th>\n",
       "      <td>Louis C.K. 2017</td>\n",
       "      <td>Louis C.K.</td>\n",
       "      <td>2017</td>\n",
       "      <td>NaN</td>\n",
       "    </tr>\n",
       "    <tr>\n",
       "      <th>3737</th>\n",
       "      <td>Louis C.K.: Hilarious</td>\n",
       "      <td>Louis C.K.</td>\n",
       "      <td>2010</td>\n",
       "      <td>NaN</td>\n",
       "    </tr>\n",
       "    <tr>\n",
       "      <th>3738</th>\n",
       "      <td>Louis C.K.: Live at the Comedy Store</td>\n",
       "      <td>Louis C.K.</td>\n",
       "      <td>2015</td>\n",
       "      <td>NaN</td>\n",
       "    </tr>\n",
       "    <tr>\n",
       "      <th>4323</th>\n",
       "      <td>My Honor Was Loyalty</td>\n",
       "      <td>Alessandro Pepe</td>\n",
       "      <td>2015</td>\n",
       "      <td>NaN</td>\n",
       "    </tr>\n",
       "  </tbody>\n",
       "</table>\n",
       "</div>"
      ],
      "text/plain": [
       "                                                       title         director  \\\n",
       "67    13TH: A Conversation with Oprah Winfrey & Ava DuVernay              NaN   \n",
       "2359                       Gargantia on the Verdurous Planet              NaN   \n",
       "3660                                            Little Lunch              NaN   \n",
       "3736                                         Louis C.K. 2017       Louis C.K.   \n",
       "3737                                   Louis C.K.: Hilarious       Louis C.K.   \n",
       "3738                    Louis C.K.: Live at the Comedy Store       Louis C.K.   \n",
       "4323                                    My Honor Was Loyalty  Alessandro Pepe   \n",
       "\n",
       "      release_year rating  \n",
       "67            2017    NaN  \n",
       "2359          2013    NaN  \n",
       "3660          2015    NaN  \n",
       "3736          2017    NaN  \n",
       "3737          2010    NaN  \n",
       "3738          2015    NaN  \n",
       "4323          2015    NaN  "
      ]
     },
     "execution_count": 11,
     "metadata": {},
     "output_type": "execute_result"
    }
   ],
   "source": [
    "# identify the titles with missing-values\n",
    "netflix_raw_data.loc[netflix_raw_data[\"rating\"].isnull(), [\"title\", \"director\", \"release_year\", \"rating\"]]"
   ]
  },
  {
   "cell_type": "code",
   "execution_count": 12,
   "id": "sapphire-implementation",
   "metadata": {},
   "outputs": [
    {
     "data": {
      "text/plain": [
       "{'13TH: A Conversation with Oprah Winfrey & Ava DuVernay': 'TV-PG',\n",
       " 'Gargantia on the Verdurous Planet': 'TV-14',\n",
       " 'Little Lunch': 'TV-Y7',\n",
       " 'Louis C.K. 2017': 'TV-MA',\n",
       " 'Louis C.K.: Hilarious': 'TV-MA',\n",
       " 'Louis C.K.: Live at the Comedy Store': 'TV-MA',\n",
       " 'My Honor Was Loyalty': 'PG-13'}"
      ]
     },
     "execution_count": 12,
     "metadata": {},
     "output_type": "execute_result"
    }
   ],
   "source": [
    "# dictionary to map title with ratings (Copied from Mike's work)\n",
    "ratings_map = {idx:val for idx,val in zip(netflix_raw_data.loc[netflix_raw_data[\"rating\"].isnull(), \"title\"].values, \n",
    "                                          [\"TV-PG\", \"TV-14\", \"TV-Y7\", \"TV-MA\", \"TV-MA\", \"TV-MA\", \"PG-13\"])}\n",
    "# display ratings dictionary\n",
    "ratings_map"
   ]
  },
  {
   "cell_type": "code",
   "execution_count": 13,
   "id": "colonial-festival",
   "metadata": {},
   "outputs": [],
   "source": [
    "# replace the missing ratings\n",
    "netflix_raw_data[\"rating\"] = netflix_raw_data[\"title\"].map(ratings_map).fillna(netflix_raw_data[\"rating\"])"
   ]
  },
  {
   "cell_type": "code",
   "execution_count": 14,
   "id": "packed-toolbox",
   "metadata": {},
   "outputs": [
    {
     "data": {
      "image/png": "[encoded data removed]",
      "text/plain": [
       "<Figure size 1080x360 with 1 Axes>"
      ]
     },
     "metadata": {},
     "output_type": "display_data"
    }
   ],
   "source": [
    "fig, ax = plt.subplots() # figsize = (15, 5))\n",
    "\n",
    "# plot distribution of titles as % based on the rating column\n",
    "sns.barplot(x = netflix_raw_data[\"rating\"].value_counts(normalize = True).index,\n",
    "            y = netflix_raw_data[\"rating\"].value_counts(normalize = True).mul(100).values, \n",
    "            ax = ax)\n",
    "\n",
    "ax.set_title(\"Rating wise content distribution on Netflix\")\n",
    "ax.set_yticklabels(\"\")\n",
    "\n",
    "for p in ax.patches:\n",
    "    ax.annotate(\"{:.2f}%\".format(p.get_height()), [p.get_x() + 0.1, p.get_height() + 0.5],)\n",
    "\n",
    "sns.despine()\n",
    "plt.show()"
   ]
  },
  {
   "cell_type": "markdown",
   "id": "burning-scope",
   "metadata": {},
   "source": [
    "### date_added Column & release Column\n",
    "\n",
    "- The format in netflix dataset for this column is \"Month Day, Year\" and is of object dtype. We will first change this to pandas datetime format\n",
    "- Also, since the column has 10 missing values, we will remove those rows\n",
    "\n",
    "- Can't really trust the release year column since if a title has been running for multiple seasons, netflix dataset may only have the most recent release year"
   ]
  },
  {
   "cell_type": "code",
   "execution_count": 15,
   "id": "recovered-allergy",
   "metadata": {},
   "outputs": [],
   "source": [
    "from datetime import datetime as dt"
   ]
  },
  {
   "cell_type": "code",
   "execution_count": 16,
   "id": "brazilian-shower",
   "metadata": {
    "scrolled": false
   },
   "outputs": [
    {
     "data": {
      "text/plain": [
       "(7777, 12)"
      ]
     },
     "execution_count": 16,
     "metadata": {},
     "output_type": "execute_result"
    }
   ],
   "source": [
    "# convert to datetime format\n",
    "netflix_raw_data[\"date_added\"] = pd.to_datetime(netflix_raw_data[\"date_added\"])\n",
    "\n",
    "# select only those records where date_added column has values\n",
    "netflix_raw_data = netflix_raw_data[netflix_raw_data[\"date_added\"].notna()]\n",
    "\n",
    "# shape of resultant netflix_raw_data\n",
    "netflix_raw_data.shape"
   ]
  },
  {
   "cell_type": "markdown",
   "id": "loaded-samuel",
   "metadata": {},
   "source": [
    "#### Additional Analysis\n",
    "\n",
    "This is a small analysis of:\n",
    "- distribution of titles based on the decade they were released\n",
    "- distribution of titles hosted by Netflix since it's inception\n",
    "\n",
    "For ease of plotting:\n",
    "- the titles that were released before the year 1980, have been grouped under `Before 1980`. Why this year? because I was born in this decade!\n",
    "- since Netflix established itself in 190 countries by 2016, all the titles added (on Netflix platform) before 2016 have been grouped under `Added before 2016`.\n",
    "\n",
    "Tried this analysis with two charts - Pie and Line."
   ]
  },
  {
   "cell_type": "code",
   "execution_count": 17,
   "id": "objective-skating",
   "metadata": {},
   "outputs": [],
   "source": [
    "# calculate the decade for each year of release\n",
    "decade_df = (netflix_raw_data[\"release_year\"] // 10 * 10).value_counts().reset_index()\n",
    "\n",
    "# rename the dataframe columns\n",
    "decade_df.rename(columns = {\"index\": \"Decade\", \"release_year\" : \"No. of Titles\"}, inplace = True)\n",
    "\n",
    "# identify titles released before the year 1980 \n",
    "decade_df[\"Decade\"] = decade_df[\"Decade\"].apply(lambda d: d if d > 1980 else \"Before 1980\")\n",
    "\n",
    "# label each decade as YYYY's\n",
    "decade_df[\"Decade\"] = decade_df[\"Decade\"].astype(str).apply(lambda s: s + \"'s\")"
   ]
  },
  {
   "cell_type": "code",
   "execution_count": 18,
   "id": "perfect-dividend",
   "metadata": {},
   "outputs": [
    {
     "data": {
      "image/png": "[encoded data removed]",
      "text/plain": [
       "<Figure size 1080x360 with 2 Axes>"
      ]
     },
     "metadata": {},
     "output_type": "display_data"
    }
   ],
   "source": [
    "fig, ax = plt.subplots(figsize = (15, 5), ncols = 2)\n",
    "\n",
    "# group the no. of titles by decade in which they were released\n",
    "data = decade_df.groupby(\"Decade\")[\"No. of Titles\"].sum()\n",
    "\n",
    "# plot the years when title was released\n",
    "ax[0].pie(x = data.values, \n",
    "          labels = data.index,\n",
    "          autopct = \"%.1f%%\",\n",
    "          explode = [0.03] * len(data),\n",
    "          pctdistance = 0.7)\n",
    "ax[0].set_title(\"Titles by Year of Release\")\n",
    "\n",
    "# group the no. of titles by decade in which they were added to Netflix\n",
    "data = netflix_raw_data[\"date_added\"].dt.year.apply(lambda d: d if d > 2016 else \"Before 2016\").value_counts()\n",
    "\n",
    "# plot the years when title was added\n",
    "ax[1].pie(x = data.values,\n",
    "          labels = data.index,\n",
    "          autopct = \"%.1f%%\",\n",
    "          explode = [0.03] * len(data),\n",
    "          pctdistance = 0.7)\n",
    "ax[1].set_title(\"Titles by Year of Streaming\")\n",
    "\n",
    "plt.show()"
   ]
  },
  {
   "cell_type": "code",
   "execution_count": 19,
   "id": "terminal-planet",
   "metadata": {
    "scrolled": false
   },
   "outputs": [
    {
     "data": {
      "image/png": "[encoded data removed]",
      "text/plain": [
       "<Figure size 1080x360 with 2 Axes>"
      ]
     },
     "metadata": {},
     "output_type": "display_data"
    }
   ],
   "source": [
    "# Compare release year and the year title was added to Netflix\n",
    "\n",
    "# release year plot\n",
    "sns.lineplot(data = netflix_raw_data[\"release_year\"].value_counts(),\n",
    "                marker = \".\")\n",
    "plt.xlabel(\"Year of Release\", fontsize = \"large\")\n",
    "plt.ylabel(\"No. of titles\")\n",
    "\n",
    "# twin the first plot \n",
    "plt.twiny()\n",
    "\n",
    "# plot for year of addition of title\n",
    "sns.lineplot(data = netflix_raw_data[\"date_added\"].dt.year.value_counts(),\n",
    "                marker = \">\")\n",
    "plt.xlabel(\"Year of Addition\", fontsize = \"large\")\n",
    "\n",
    "# extras\n",
    "plt.title(\"Titles: Release Year vs. Addition on Netflix Year\", pad = 20)\n",
    "plt.show()"
   ]
  },
  {
   "cell_type": "markdown",
   "id": "little-digit",
   "metadata": {},
   "source": [
    "### duration Column\n",
    "\n",
    "This column specifies the duration of a title in No. of seasons or runtime in minutes. However, if we analyze the values, the TV Shows are specified with seasons and Movies have runtime minutes. No series has runtime in minutes."
   ]
  },
  {
   "cell_type": "code",
   "execution_count": 20,
   "id": "above-inventory",
   "metadata": {},
   "outputs": [
    {
     "name": "stdout",
     "output_type": "stream",
     "text": [
      "TV Show    2400\n",
      "Name: type, dtype: int64 \n",
      "\n",
      "Movie    5377\n",
      "Name: type, dtype: int64\n"
     ]
    }
   ],
   "source": [
    "# title type with duration in seasons\n",
    "print(netflix_raw_data.loc[netflix_raw_data[\"duration\"].str.contains(\"Season\"), \"type\"].value_counts(), \"\\n\")\n",
    "\n",
    "# title type with duration in minutes\n",
    "print(netflix_raw_data.loc[netflix_raw_data[\"duration\"].str.contains(\"min\"), \"type\"].value_counts())"
   ]
  },
  {
   "cell_type": "code",
   "execution_count": 21,
   "id": "automotive-monthly",
   "metadata": {},
   "outputs": [
    {
     "data": {
      "text/plain": [
       "1 Season      1608\n",
       "2 Seasons      378\n",
       "3 Seasons      183\n",
       "4 Seasons       86\n",
       "5 Seasons       57\n",
       "6 Seasons       30\n",
       "7 Seasons       19\n",
       "8 Seasons       18\n",
       "9 Seasons        8\n",
       "10 Seasons       5\n",
       "12 Seasons       2\n",
       "15 Seasons       2\n",
       "11 Seasons       2\n",
       "13 Seasons       1\n",
       "16 Seasons       1\n",
       "Name: duration, dtype: int64"
      ]
     },
     "execution_count": 21,
     "metadata": {},
     "output_type": "execute_result"
    }
   ],
   "source": [
    "# duration for title type TV Show \n",
    "netflix_raw_data.loc[netflix_raw_data[\"duration\"].str.contains(\"Season\"), \"duration\"].value_counts()"
   ]
  },
  {
   "cell_type": "code",
   "execution_count": 22,
   "id": "unable-subject",
   "metadata": {},
   "outputs": [
    {
     "data": {
      "image/png": "[encoded data removed]",
      "text/plain": [
       "<Figure size 1080x360 with 1 Axes>"
      ]
     },
     "metadata": {},
     "output_type": "display_data"
    }
   ],
   "source": [
    "# distribution of runtime in minutes\n",
    "plt.hist(x = netflix_raw_data.loc[netflix_raw_data[\"duration\"].str.contains(\"min\"), \"duration\"].\\\n",
    "         str.strip(\"min\").astype(int), \n",
    "         bins = 50)\n",
    "plt.axvline(x = netflix_raw_data.loc[netflix_raw_data[\"duration\"].str.contains(\"min\"), \"duration\"].\\\n",
    "            str.strip(\"min\").astype(int).mean(),\n",
    "            lw = 2,\n",
    "            dashes = [5, 2, 1, 2],\n",
    "            color = \"white\", \n",
    "            label = \"Mean\")\n",
    "plt.legend()\n",
    "plt.title(\"Distribution of Runtime Minutes\")\n",
    "plt.show()\n",
    "\n",
    "# netflix_raw_data.loc[netflix_raw_data[\"duration\"].str.contains(\"min\"), \"duration\"].str.strip(\"min\").astype(int).mean()"
   ]
  },
  {
   "cell_type": "markdown",
   "id": "small-daughter",
   "metadata": {},
   "source": [
    "### Section for listed_in Column\n"
   ]
  },
  {
   "cell_type": "code",
   "execution_count": 23,
   "id": "infinite-replication",
   "metadata": {},
   "outputs": [],
   "source": [
    "# listed_in sample values"
   ]
  },
  {
   "cell_type": "markdown",
   "id": "enclosed-underwear",
   "metadata": {},
   "source": [
    "## Tackle the Missing Values\n",
    "\n",
    "<font color = \"blue\">Okay I tried on this and yes Even I am disappinted with the progress I have made. And apparently it seems I won't last 1 day of employment itself based on these results !</font>\n",
    "\n",
    "The big bad boy: Missing Values in 3 columns - Director, Cast and Country of origin of a title. \n",
    "The idea is to try out the best approach and fill-in as many missing values as we can.\n",
    "\n",
    "So how exactly are we going to achieve this?\n",
    "\n",
    "- IMDB provides separate datasets with different information. The common link between these datasets are alpha-numeric columns like \"tconst\", \"nconst\" etc. that identify a title or cast & crew memeber.\n",
    "- The dataset name_basics provides the names of the cast and crew identifies by unique ncosnt ID"
   ]
  },
  {
   "cell_type": "markdown",
   "id": "approximate-dragon",
   "metadata": {},
   "source": [
    "### Prepare the columns\n",
    "\n",
    "<font color = \"blue\">I first split the dataset of netflix into 3 parts - one for each column. </font>"
   ]
  },
  {
   "cell_type": "code",
   "execution_count": 24,
   "id": "split-universal",
   "metadata": {},
   "outputs": [],
   "source": [
    "\"\"\"split the dataframe with missing and non-missing values\"\"\"\n",
    "\n",
    "# non-null data\n",
    "netflix_data = netflix_raw_data[(netflix_raw_data[\"director\"].notna()) &\n",
    "                                (netflix_raw_data[\"cast\"].notna()) &\n",
    "                                (netflix_raw_data[\"country\"].notna())].reset_index(drop = True)\n",
    "\n",
    "# where director is missing\n",
    "missing_directors = netflix_raw_data[netflix_raw_data[\"director\"].isnull()].reset_index(drop = True)\n",
    "\n",
    "# where cast is missing\n",
    "missing_cast = netflix_raw_data[netflix_raw_data[\"cast\"].isnull()].reset_index(drop = True)\n",
    "\n",
    "# where country is missing\n",
    "missing_country = netflix_raw_data[netflix_raw_data[\"country\"].isnull()].reset_index(drop = True)"
   ]
  },
  {
   "cell_type": "code",
   "execution_count": 25,
   "id": "different-sweet",
   "metadata": {},
   "outputs": [
    {
     "name": "stdout",
     "output_type": "stream",
     "text": [
      "Directors :(2379, 12)\n",
      "Cast :(718, 12)\n",
      "Country :(506, 12)\n",
      "Non-null data :(4812, 12)\n"
     ]
    }
   ],
   "source": [
    "# shape of resultant datasets\n",
    "print(\"Directors :\" + str(missing_directors.shape),\n",
    "      \"Cast :\" + str(missing_cast.shape),\n",
    "      \"Country :\" + str(missing_country.shape),\n",
    "      \"Non-null data :\" + str(netflix_data.shape), sep = \"\\n\")"
   ]
  },
  {
   "cell_type": "code",
   "execution_count": 26,
   "id": "everyday-tournament",
   "metadata": {},
   "outputs": [
    {
     "data": {
      "text/html": [
       "<div>\n",
       "<style scoped>\n",
       "    .dataframe tbody tr th:only-of-type {\n",
       "        vertical-align: middle;\n",
       "    }\n",
       "\n",
       "    .dataframe tbody tr th {\n",
       "        vertical-align: top;\n",
       "    }\n",
       "\n",
       "    .dataframe thead th {\n",
       "        text-align: right;\n",
       "    }\n",
       "</style>\n",
       "<table border=\"1\" class=\"dataframe\">\n",
       "  <thead>\n",
       "    <tr style=\"text-align: right;\">\n",
       "      <th></th>\n",
       "      <th>type</th>\n",
       "      <th>title</th>\n",
       "      <th>release_year</th>\n",
       "      <th>combo</th>\n",
       "      <th>director</th>\n",
       "    </tr>\n",
       "  </thead>\n",
       "  <tbody>\n",
       "    <tr>\n",
       "      <th>0</th>\n",
       "      <td>TV Show</td>\n",
       "      <td>3%</td>\n",
       "      <td>2020</td>\n",
       "      <td>3_2020</td>\n",
       "      <td>NaN</td>\n",
       "    </tr>\n",
       "    <tr>\n",
       "      <th>1</th>\n",
       "      <td>TV Show</td>\n",
       "      <td>1983</td>\n",
       "      <td>2018</td>\n",
       "      <td>1983_2018</td>\n",
       "      <td>NaN</td>\n",
       "    </tr>\n",
       "    <tr>\n",
       "      <th>2</th>\n",
       "      <td>TV Show</td>\n",
       "      <td>Feb-09</td>\n",
       "      <td>2018</td>\n",
       "      <td>feb09_2018</td>\n",
       "      <td>NaN</td>\n",
       "    </tr>\n",
       "    <tr>\n",
       "      <th>3</th>\n",
       "      <td>Movie</td>\n",
       "      <td>'89</td>\n",
       "      <td>2017</td>\n",
       "      <td>89_2017</td>\n",
       "      <td>NaN</td>\n",
       "    </tr>\n",
       "    <tr>\n",
       "      <th>4</th>\n",
       "      <td>TV Show</td>\n",
       "      <td>​SAINT SEIYA: Knights of the Zodiac</td>\n",
       "      <td>2020</td>\n",
       "      <td>saint seiya knights of the zodiac_2020</td>\n",
       "      <td>NaN</td>\n",
       "    </tr>\n",
       "  </tbody>\n",
       "</table>\n",
       "</div>"
      ],
      "text/plain": [
       "      type                                title  release_year  \\\n",
       "0  TV Show                                   3%          2020   \n",
       "1  TV Show                                 1983          2018   \n",
       "2  TV Show                               Feb-09          2018   \n",
       "3    Movie                                  '89          2017   \n",
       "4  TV Show  ​SAINT SEIYA: Knights of the Zodiac          2020   \n",
       "\n",
       "                                    combo director  \n",
       "0                                  3_2020      NaN  \n",
       "1                               1983_2018      NaN  \n",
       "2                              feb09_2018      NaN  \n",
       "3                                 89_2017      NaN  \n",
       "4  saint seiya knights of the zodiac_2020      NaN  "
      ]
     },
     "execution_count": 26,
     "metadata": {},
     "output_type": "execute_result"
    }
   ],
   "source": [
    "# combination of title and release_year columns >> missing_directors dataset\n",
    "missing_directors[\"combo\"] = missing_directors[\"title\"].str.replace(r\"[^\\w\\s]+\", \"\", regex = True).str.lower().\\\n",
    "                             str.cat(missing_directors[\"release_year\"].astype(str), sep = \"_\")\n",
    "\n",
    "# sample rows with selected columns only \n",
    "missing_directors[[\"type\", \"title\", \"release_year\", \"combo\", \"director\"]].head()"
   ]
  },
  {
   "cell_type": "code",
   "execution_count": 27,
   "id": "satisfied-ordinance",
   "metadata": {},
   "outputs": [
    {
     "data": {
      "text/html": [
       "<div>\n",
       "<style scoped>\n",
       "    .dataframe tbody tr th:only-of-type {\n",
       "        vertical-align: middle;\n",
       "    }\n",
       "\n",
       "    .dataframe tbody tr th {\n",
       "        vertical-align: top;\n",
       "    }\n",
       "\n",
       "    .dataframe thead th {\n",
       "        text-align: right;\n",
       "    }\n",
       "</style>\n",
       "<table border=\"1\" class=\"dataframe\">\n",
       "  <thead>\n",
       "    <tr style=\"text-align: right;\">\n",
       "      <th></th>\n",
       "      <th>type</th>\n",
       "      <th>title</th>\n",
       "      <th>release_year</th>\n",
       "      <th>combo</th>\n",
       "      <th>cast</th>\n",
       "    </tr>\n",
       "  </thead>\n",
       "  <tbody>\n",
       "    <tr>\n",
       "      <th>0</th>\n",
       "      <td>TV Show</td>\n",
       "      <td>1994</td>\n",
       "      <td>2019</td>\n",
       "      <td>1994_2019</td>\n",
       "      <td>NaN</td>\n",
       "    </tr>\n",
       "    <tr>\n",
       "      <th>1</th>\n",
       "      <td>Movie</td>\n",
       "      <td>(T)ERROR</td>\n",
       "      <td>2015</td>\n",
       "      <td>terror_2015</td>\n",
       "      <td>NaN</td>\n",
       "    </tr>\n",
       "    <tr>\n",
       "      <th>2</th>\n",
       "      <td>TV Show</td>\n",
       "      <td>(Un)Well</td>\n",
       "      <td>2020</td>\n",
       "      <td>unwell_2020</td>\n",
       "      <td>NaN</td>\n",
       "    </tr>\n",
       "    <tr>\n",
       "      <th>3</th>\n",
       "      <td>Movie</td>\n",
       "      <td>#cats_the_mewvie</td>\n",
       "      <td>2020</td>\n",
       "      <td>cats_the_mewvie_2020</td>\n",
       "      <td>NaN</td>\n",
       "    </tr>\n",
       "    <tr>\n",
       "      <th>4</th>\n",
       "      <td>Movie</td>\n",
       "      <td>#Rucker50</td>\n",
       "      <td>2016</td>\n",
       "      <td>rucker50_2016</td>\n",
       "      <td>NaN</td>\n",
       "    </tr>\n",
       "  </tbody>\n",
       "</table>\n",
       "</div>"
      ],
      "text/plain": [
       "      type             title  release_year                 combo cast\n",
       "0  TV Show              1994          2019             1994_2019  NaN\n",
       "1    Movie          (T)ERROR          2015           terror_2015  NaN\n",
       "2  TV Show          (Un)Well          2020           unwell_2020  NaN\n",
       "3    Movie  #cats_the_mewvie          2020  cats_the_mewvie_2020  NaN\n",
       "4    Movie         #Rucker50          2016         rucker50_2016  NaN"
      ]
     },
     "execution_count": 27,
     "metadata": {},
     "output_type": "execute_result"
    }
   ],
   "source": [
    "# combination of title and release_year columns >> missing_cast dataset\n",
    "missing_cast[\"combo\"] = missing_cast[\"title\"].str.replace(r\"[^\\w\\s]+\", \"\", regex = True).str.lower().\\\n",
    "                             str.cat(missing_cast[\"release_year\"].astype(str), sep = \"_\")\n",
    "\n",
    "# sample rows with selected columns only\n",
    "missing_cast[[\"type\", \"title\", \"release_year\", \"combo\", \"cast\"]].head()"
   ]
  },
  {
   "cell_type": "markdown",
   "id": "trained-flesh",
   "metadata": {},
   "source": [
    "### Set-up to read IMDB datasets\n",
    "\n",
    "<font color = \"blue\"> Here I created a .py file so that reading of IMDB datasets is done over there. The idea was to dump any messy work over there, but I still ended up creating a mess here itself. </font>"
   ]
  },
  {
   "cell_type": "code",
   "execution_count": 28,
   "id": "vanilla-copying",
   "metadata": {},
   "outputs": [],
   "source": [
    "# Set-up directory and Files\n",
    "imdb_dir = os.getcwd() + \"\\\\IMDB_Dataset\\\\\"\n",
    "imdb_file_names = [\"title_akas.tsv\", \"title_basics.tsv\", \"title_crew.tsv\", \"title_principals.tsv\", \"name_basics.tsv\"]"
   ]
  },
  {
   "cell_type": "code",
   "execution_count": 29,
   "id": "fatty-dependence",
   "metadata": {},
   "outputs": [],
   "source": [
    "# import the IMDB_work.py module aliased as \"iw\" for now\n",
    "import IMDB_work as iw"
   ]
  },
  {
   "cell_type": "code",
   "execution_count": 30,
   "id": "recent-confidentiality",
   "metadata": {},
   "outputs": [
    {
     "name": "stdout",
     "output_type": "stream",
     "text": [
      "Test Code For Docstring \n",
      "\n",
      "python module to work with IMDB Data Files \n",
      "\n",
      "Function to read the \".tsv\" files downloaded from IMDB interface\n",
      "----------------------------------------------------------------\n",
      "Name: read_imdb_files\n",
      "\n",
      "Parameters: \n",
      "- file_name: name of the IMDB dataset file. \n",
      "- file_directory: name of the directory that contains the IMDB dataset files. Parameter has been set to default option.\n",
      "\n",
      "Returns: a dataframe containing all the records of the IMDB dataset file with every column stored as \"object\" dtype\n",
      "\n",
      "Additional Info: \n",
      "- all the fields are stored as object dtype to avoid any errors \n",
      "- prints the shape and missing value % for the datafile\n",
      "    \n"
     ]
    }
   ],
   "source": [
    "\"\"\"Test code cell\"\"\"\n",
    "print(\"Test Code For Docstring\", \"\\n\")\n",
    "print(iw.__doc__)\n",
    "print(iw.read_imdb_files.__doc__)"
   ]
  },
  {
   "cell_type": "markdown",
   "id": "living-contemporary",
   "metadata": {},
   "source": [
    "<font color = \"blue\">Here we read the IMDB file containing the title and year values to match with netflix missing datasets. We also read the IMDB file containing names of all the people involved in a project. \n",
    "</font>"
   ]
  },
  {
   "cell_type": "code",
   "execution_count": 31,
   "id": "destroyed-prisoner",
   "metadata": {},
   "outputs": [
    {
     "name": "stdout",
     "output_type": "stream",
     "text": [
      "The data file title_basics.tsv contains 7918519 rows and 9 columns\n",
      "============================================================\n",
      "       ColumnName  MissingValue%\n",
      "0          tconst           0.00\n",
      "1       titleType           0.00\n",
      "2    primaryTitle           0.00\n",
      "3   originalTitle           0.00\n",
      "4         isAdult           0.00\n",
      "5       startYear          10.95\n",
      "6         endYear          99.03\n",
      "7  runtimeMinutes          72.08\n",
      "8          genres           7.81\n"
     ]
    }
   ],
   "source": [
    "\"\"\" Read the title_basics.tsv file \"\"\"\n",
    "title_basics = iw.read_imdb_files(file_name = imdb_file_names[1], file_directory = imdb_dir)"
   ]
  },
  {
   "cell_type": "code",
   "execution_count": 32,
   "id": "opponent-property",
   "metadata": {},
   "outputs": [
    {
     "name": "stdout",
     "output_type": "stream",
     "text": [
      "The data file name_basics.tsv contains 10942043 rows and 6 columns\n",
      "============================================================\n",
      "          ColumnName  MissingValue%\n",
      "0             nconst           0.00\n",
      "1        primaryName           0.00\n",
      "2          birthYear          95.19\n",
      "3          deathYear          98.27\n",
      "4  primaryProfession          21.23\n",
      "5     knownForTitles          18.52\n"
     ]
    }
   ],
   "source": [
    "\"\"\" Read the name_basics.tsv file \"\"\"\n",
    "name_basics = iw.read_imdb_files(file_name = imdb_file_names[-1], file_directory = imdb_dir)"
   ]
  },
  {
   "cell_type": "markdown",
   "id": "primary-burton",
   "metadata": {},
   "source": [
    "To compare title_basics dataset and missing_\\<datasets\\>: \n",
    "    \n",
    "- both the title and primaryTitle columns have been stripped of any non alpha-numeric characters\n",
    "- the titles have been set to lower case\n",
    "- release_year and startYear columns have been appended to the title name columns respectively"
   ]
  },
  {
   "cell_type": "code",
   "execution_count": 33,
   "id": "capital-console",
   "metadata": {},
   "outputs": [],
   "source": [
    "# combination of primaryTitle and startYear columns >> title_basics dataset\n",
    "title_basics[\"combo\"] = title_basics[\"primaryTitle\"].str.replace(r\"[^\\w\\s]+\", \"\", regex = True).str.lower().\\\n",
    "                        str.cat(title_basics[\"startYear\"].astype(str), sep = \"_\")"
   ]
  },
  {
   "cell_type": "markdown",
   "id": "civic-partition",
   "metadata": {},
   "source": [
    "### Finding Missing Directors"
   ]
  },
  {
   "cell_type": "code",
   "execution_count": 34,
   "id": "sensitive-studio",
   "metadata": {},
   "outputs": [
    {
     "data": {
      "text/html": [
       "<div>\n",
       "<style scoped>\n",
       "    .dataframe tbody tr th:only-of-type {\n",
       "        vertical-align: middle;\n",
       "    }\n",
       "\n",
       "    .dataframe tbody tr th {\n",
       "        vertical-align: top;\n",
       "    }\n",
       "\n",
       "    .dataframe thead th {\n",
       "        text-align: right;\n",
       "    }\n",
       "</style>\n",
       "<table border=\"1\" class=\"dataframe\">\n",
       "  <thead>\n",
       "    <tr style=\"text-align: right;\">\n",
       "      <th></th>\n",
       "      <th>combo</th>\n",
       "      <th>tconst</th>\n",
       "    </tr>\n",
       "  </thead>\n",
       "  <tbody>\n",
       "    <tr>\n",
       "      <th>0</th>\n",
       "      <td>100 days my prince_2018</td>\n",
       "      <td>[tt8199972]</td>\n",
       "    </tr>\n",
       "    <tr>\n",
       "      <th>1</th>\n",
       "      <td>100 things to do before high school_2014</td>\n",
       "      <td>[tt3904078, tt3914888]</td>\n",
       "    </tr>\n",
       "    <tr>\n",
       "      <th>2</th>\n",
       "      <td>12 years promise_2014</td>\n",
       "      <td>[tt5476252]</td>\n",
       "    </tr>\n",
       "    <tr>\n",
       "      <th>3</th>\n",
       "      <td>13 reasons why_2020</td>\n",
       "      <td>[tt12301534]</td>\n",
       "    </tr>\n",
       "    <tr>\n",
       "      <th>4</th>\n",
       "      <td>13th a conversation with oprah winfrey  ava duvernay_2017</td>\n",
       "      <td>[tt6491068]</td>\n",
       "    </tr>\n",
       "  </tbody>\n",
       "</table>\n",
       "</div>"
      ],
      "text/plain": [
       "                                                       combo  \\\n",
       "0                                    100 days my prince_2018   \n",
       "1                   100 things to do before high school_2014   \n",
       "2                                      12 years promise_2014   \n",
       "3                                        13 reasons why_2020   \n",
       "4  13th a conversation with oprah winfrey  ava duvernay_2017   \n",
       "\n",
       "                   tconst  \n",
       "0             [tt8199972]  \n",
       "1  [tt3904078, tt3914888]  \n",
       "2             [tt5476252]  \n",
       "3            [tt12301534]  \n",
       "4             [tt6491068]  "
      ]
     },
     "execution_count": 34,
     "metadata": {},
     "output_type": "execute_result"
    }
   ],
   "source": [
    "# match the combination in title_basics and missing_directors dataframes\n",
    "# collect and store the matched records in a temporary dataframe - match_df \n",
    "\n",
    "match_df = title_basics.loc[title_basics[\"combo\"].isin(missing_directors[\"combo\"]), \n",
    "                            [\"tconst\", \"combo\"]].reset_index(drop = True).groupby(\"combo\")[\"tconst\"].unique().reset_index()\n",
    "\n",
    "# sample rows from resultant match_df dataframe\n",
    "match_df.head()"
   ]
  },
  {
   "cell_type": "markdown",
   "id": "advanced-compound",
   "metadata": {},
   "source": [
    "<font color = \"blue\"> Okay here I thought of possible combinations to clarify between the titles which have similar/ same names but were released in different years. But then this data clean-up itself is one big project as Mike also told me but I kind of was relunctant to listen! Lesson learned at Mike's & Vivek's time expense..... So for now I filtered the title which have unique names. "
   ]
  },
  {
   "cell_type": "code",
   "execution_count": 35,
   "id": "latest-phase",
   "metadata": {},
   "outputs": [],
   "source": [
    "# filter out unique title names i.e. no other title of the same name was released at any other time\n",
    "match_df = match_df[match_df[\"tconst\"].str.len() == 1].set_index(\"combo\").explode(\"tconst\").reset_index()"
   ]
  },
  {
   "cell_type": "code",
   "execution_count": 36,
   "id": "reported-branch",
   "metadata": {},
   "outputs": [
    {
     "data": {
      "text/plain": [
       "(1064, 2)"
      ]
     },
     "execution_count": 36,
     "metadata": {},
     "output_type": "execute_result"
    }
   ],
   "source": [
    "match_df.shape"
   ]
  },
  {
   "cell_type": "code",
   "execution_count": 37,
   "id": "hungarian-traffic",
   "metadata": {},
   "outputs": [
    {
     "name": "stdout",
     "output_type": "stream",
     "text": [
      "The data file title_crew.tsv contains 7918519 rows and 3 columns\n",
      "============================================================\n",
      "  ColumnName  MissingValue%\n",
      "0     tconst           0.00\n",
      "1  directors          42.42\n",
      "2    writers          49.18\n"
     ]
    }
   ],
   "source": [
    "\"\"\" Read the title_crew.tsv file \"\"\"\n",
    "title_crew = iw.read_imdb_files(file_name = imdb_file_names[2], file_directory = imdb_dir)"
   ]
  },
  {
   "cell_type": "code",
   "execution_count": 38,
   "id": "varying-writer",
   "metadata": {},
   "outputs": [],
   "source": [
    "\"\"\"\n",
    "- match the tconst ID between the match_df and title_crew dataset\n",
    "- extract director ID's associated with a title from title_crew dataframe\n",
    "\"\"\"\n",
    "\n",
    "# match the title ID and map the director ID in match_df dataframe\n",
    "match_df[\"director_id\"] = match_df[\"tconst\"].map(dict(title_crew.loc[title_crew[\"tconst\"].isin(match_df[\"tconst\"]), \n",
    "                                                                     [\"tconst\", \"directors\"]].dropna().values))\n",
    "\n",
    "\"\"\"since the title_crew dataset itself has null values these matches are of no use to us\n",
    "so we drop the records where director ID's are still null\"\"\"\n",
    "\n",
    "# drop null values\n",
    "match_df.dropna(inplace = True)\n",
    "\n",
    "# reset the index for match_df to linear >> 0,...,n-1\n",
    "match_df.reset_index(drop = True, inplace = True)"
   ]
  },
  {
   "cell_type": "code",
   "execution_count": 39,
   "id": "coated-ballet",
   "metadata": {},
   "outputs": [],
   "source": [
    "\"\"\"Since we collected multiple directors as comma separated values \n",
    "we will explode these ID's so that we get one director ID per row.\"\"\"\n",
    "\n",
    "# split the director ID by \",\"\n",
    "match_df[\"director_id\"] = match_df[\"director_id\"].str.split(\",\")\n",
    "\n",
    "# explode on director ID column to get dataframe with each in separate row\n",
    "match_df = match_df.set_index([\"combo\", \"tconst\"]).explode(\"director_id\").reset_index()"
   ]
  },
  {
   "cell_type": "code",
   "execution_count": 40,
   "id": "removed-phoenix",
   "metadata": {},
   "outputs": [],
   "source": [
    "\"\"\"Match the director ID with nconst column in Name Basics dataset and extract the name of the director\"\"\"\n",
    "\n",
    "# match the director ID and nconst columns\n",
    "matched_names = name_basics.loc[name_basics[\"nconst\"].isin(match_df[\"director_id\"]), [\"nconst\", \"primaryName\"]].values\n",
    "\n",
    "# map the names of directors\n",
    "match_df[\"director_name\"] = match_df[\"director_id\"].map(dict(matched_names))"
   ]
  },
  {
   "cell_type": "markdown",
   "id": "terminal-penalty",
   "metadata": {},
   "source": [
    "This is a reverse process to short our long dataframe into a wide one by grouping (multiple if present) director(s) based on a title."
   ]
  },
  {
   "cell_type": "code",
   "execution_count": 41,
   "id": "noted-money",
   "metadata": {},
   "outputs": [],
   "source": [
    "# group the directors by title ID\n",
    "match_df = match_df.groupby(\"combo\")[\"director_name\"].apply(lambda s: \",\".join(s)).reset_index()"
   ]
  },
  {
   "cell_type": "code",
   "execution_count": 42,
   "id": "changed-manor",
   "metadata": {},
   "outputs": [
    {
     "data": {
      "text/plain": [
       "(857, 2)"
      ]
     },
     "execution_count": 42,
     "metadata": {},
     "output_type": "execute_result"
    }
   ],
   "source": [
    "# How many missing directors have we been able to identify?\n",
    "match_df.shape"
   ]
  },
  {
   "cell_type": "code",
   "execution_count": 43,
   "id": "promising-municipality",
   "metadata": {},
   "outputs": [],
   "source": [
    "# replace the missing_directors; this will be later appended to netflix non null dataset\n",
    "missing_directors[\"director\"] = missing_directors[\"combo\"].map(dict(match_df.values)).fillna(\"Unknown\")"
   ]
  },
  {
   "cell_type": "markdown",
   "id": "virtual-skirt",
   "metadata": {},
   "source": [
    "### Finding Missing Cast\n",
    "\n",
    "<font color = \"blue\">The process employed for directors has been replicated for Cast members as well, much to a very very very disappointing result</font>"
   ]
  },
  {
   "cell_type": "code",
   "execution_count": 44,
   "id": "friendly-groove",
   "metadata": {},
   "outputs": [
    {
     "name": "stdout",
     "output_type": "stream",
     "text": [
      "(518, 2)\n"
     ]
    },
    {
     "data": {
      "text/html": [
       "<div>\n",
       "<style scoped>\n",
       "    .dataframe tbody tr th:only-of-type {\n",
       "        vertical-align: middle;\n",
       "    }\n",
       "\n",
       "    .dataframe tbody tr th {\n",
       "        vertical-align: top;\n",
       "    }\n",
       "\n",
       "    .dataframe thead th {\n",
       "        text-align: right;\n",
       "    }\n",
       "</style>\n",
       "<table border=\"1\" class=\"dataframe\">\n",
       "  <thead>\n",
       "    <tr style=\"text-align: right;\">\n",
       "      <th></th>\n",
       "      <th>combo</th>\n",
       "      <th>tconst</th>\n",
       "    </tr>\n",
       "  </thead>\n",
       "  <tbody>\n",
       "    <tr>\n",
       "      <th>0</th>\n",
       "      <td>13th_2016</td>\n",
       "      <td>[tt5895028]</td>\n",
       "    </tr>\n",
       "    <tr>\n",
       "      <th>1</th>\n",
       "      <td>14 minutes from earth_2016</td>\n",
       "      <td>[tt5626716]</td>\n",
       "    </tr>\n",
       "    <tr>\n",
       "      <th>2</th>\n",
       "      <td>1994_2019</td>\n",
       "      <td>[tt10243640, tt11974294, tt13229100, tt8736278]</td>\n",
       "    </tr>\n",
       "    <tr>\n",
       "      <th>3</th>\n",
       "      <td>3 seconds divorce_2018</td>\n",
       "      <td>[tt7987516]</td>\n",
       "    </tr>\n",
       "    <tr>\n",
       "      <th>4</th>\n",
       "      <td>7 days out_2018</td>\n",
       "      <td>[tt9315990]</td>\n",
       "    </tr>\n",
       "  </tbody>\n",
       "</table>\n",
       "</div>"
      ],
      "text/plain": [
       "                        combo                                           tconst\n",
       "0                   13th_2016                                      [tt5895028]\n",
       "1  14 minutes from earth_2016                                      [tt5626716]\n",
       "2                   1994_2019  [tt10243640, tt11974294, tt13229100, tt8736278]\n",
       "3      3 seconds divorce_2018                                      [tt7987516]\n",
       "4             7 days out_2018                                      [tt9315990]"
      ]
     },
     "execution_count": 44,
     "metadata": {},
     "output_type": "execute_result"
    }
   ],
   "source": [
    "# match the combination in title_basics and missing_cast dataframes\n",
    "# collect and store the matched records in a temporary dataframe - match_df \n",
    "\n",
    "match_df = title_basics.loc[title_basics[\"combo\"].isin(missing_cast[\"combo\"]), \n",
    "                            [\"tconst\", \"combo\"]].reset_index(drop = True).groupby(\"combo\")[\"tconst\"].unique().reset_index()\n",
    "\n",
    "# shape of match_df dataframe\n",
    "print(match_df.shape)\n",
    "\n",
    "# samle rows from match_df\n",
    "match_df.head()"
   ]
  },
  {
   "cell_type": "code",
   "execution_count": 45,
   "id": "circular-pixel",
   "metadata": {},
   "outputs": [],
   "source": [
    "# filter out unique title names i.e. no other title of the same name was released at any other time\n",
    "match_df = match_df[match_df[\"tconst\"].str.len() == 1].set_index(\"combo\").explode(\"tconst\").reset_index()"
   ]
  },
  {
   "cell_type": "code",
   "execution_count": 46,
   "id": "individual-soundtrack",
   "metadata": {},
   "outputs": [
    {
     "data": {
      "text/plain": [
       "(440, 2)"
      ]
     },
     "execution_count": 46,
     "metadata": {},
     "output_type": "execute_result"
    }
   ],
   "source": [
    "# resultant match_df shape with unique title names\n",
    "match_df.shape"
   ]
  },
  {
   "cell_type": "code",
   "execution_count": 47,
   "id": "academic-december",
   "metadata": {},
   "outputs": [
    {
     "name": "stdout",
     "output_type": "stream",
     "text": [
      "The data file title_principals.tsv contains 44887359 rows and 6 columns\n",
      "============================================================\n",
      "   ColumnName  MissingValue%\n",
      "0      tconst           0.00\n",
      "1    ordering           0.00\n",
      "2      nconst           0.00\n",
      "3    category           0.00\n",
      "4         job          83.90\n",
      "5  characters          49.97\n"
     ]
    }
   ],
   "source": [
    "\"\"\"Read title_principals.tsv file\"\"\"\n",
    "title_principals = iw.read_imdb_files(file_name = imdb_file_names[3], file_directory = imdb_dir)"
   ]
  },
  {
   "cell_type": "code",
   "execution_count": 48,
   "id": "cosmetic-heart",
   "metadata": {},
   "outputs": [
    {
     "data": {
      "text/plain": [
       "['actor',\n",
       " 'actress',\n",
       " 'archive_footage',\n",
       " 'archive_sound',\n",
       " 'cinematographer',\n",
       " 'composer',\n",
       " 'director',\n",
       " 'editor',\n",
       " 'producer',\n",
       " 'production_designer',\n",
       " 'self',\n",
       " 'writer']"
      ]
     },
     "execution_count": 48,
     "metadata": {},
     "output_type": "execute_result"
    }
   ],
   "source": [
    "# Value present in category column \n",
    "sorted(title_principals[\"category\"].unique())"
   ]
  },
  {
   "cell_type": "code",
   "execution_count": 49,
   "id": "hindu-maker",
   "metadata": {},
   "outputs": [],
   "source": [
    "\"\"\"\n",
    "- match the tconst ID between the match_df and title_principals dataset\n",
    "- extract director ID's associated with a title from title_principals dataframe \n",
    "- select only those principals where category is Actor or Actress\n",
    "\"\"\"\n",
    "\n",
    "match_df[\"cast_id\"] = (\n",
    "    match_df[\"tconst\"].map(dict(title_principals.loc[(title_principals[\"tconst\"].isin(match_df[\"tconst\"])) &\n",
    "                                                     (title_principals[\"category\"].isin([\"actress\", \"actor\"])), \n",
    "                                                     [\"tconst\", \"nconst\"]].reset_index(drop = True).\\\n",
    "                                groupby(\"tconst\")[\"nconst\"].unique().reset_index().values))\n",
    ")\n",
    "\n",
    "# drop null values\n",
    "match_df.dropna(inplace = True)\n",
    "\n",
    "# reset index of match_df dataframe\n",
    "match_df.reset_index(drop = True, inplace = True)"
   ]
  },
  {
   "cell_type": "code",
   "execution_count": 50,
   "id": "signed-software",
   "metadata": {},
   "outputs": [],
   "source": [
    "# explode match_df on cast_id column to get one principal ID per row\n",
    "match_df = match_df.set_index([\"combo\", \"tconst\"]).explode(\"cast_id\").reset_index()"
   ]
  },
  {
   "cell_type": "code",
   "execution_count": 51,
   "id": "fuzzy-peoples",
   "metadata": {},
   "outputs": [],
   "source": [
    "# match the cast ID with nconst column\n",
    "matched_names = name_basics.loc[name_basics[\"nconst\"].isin(match_df[\"cast_id\"]), [\"nconst\", \"primaryName\"]].values\n",
    "\n",
    "# map the Names of cast members to match_df dataframe\n",
    "match_df[\"cast_name\"] = match_df[\"cast_id\"].map(dict(matched_names))"
   ]
  },
  {
   "cell_type": "code",
   "execution_count": 52,
   "id": "oriented-manor",
   "metadata": {},
   "outputs": [
    {
     "data": {
      "text/plain": [
       "(365, 4)"
      ]
     },
     "execution_count": 52,
     "metadata": {},
     "output_type": "execute_result"
    }
   ],
   "source": [
    "match_df.shape"
   ]
  },
  {
   "cell_type": "code",
   "execution_count": 53,
   "id": "interracial-dialogue",
   "metadata": {},
   "outputs": [],
   "source": [
    "# The grouping and mapping have been done in one step for the cast members\n",
    "missing_cast[\"cast\"] = missing_cast[\"combo\"].map(dict(match_df.groupby(\"combo\")[\"cast_name\"].\n",
    "                                                      apply(lambda s: \",\".join(s)).reset_index().values)).fillna(\"Unknown\")"
   ]
  },
  {
   "cell_type": "code",
   "execution_count": 54,
   "id": "three-innocent",
   "metadata": {},
   "outputs": [
    {
     "data": {
      "text/plain": [
       "(604, 13)"
      ]
     },
     "execution_count": 54,
     "metadata": {},
     "output_type": "execute_result"
    }
   ],
   "source": [
    "missing_cast[missing_cast[\"cast\"] == \"Unknown\"].shape"
   ]
  },
  {
   "cell_type": "markdown",
   "id": "burning-amendment",
   "metadata": {},
   "source": [
    "<font color = \"blue\"> Yeah! I know this is the disappointment.... after all that, for only 114 rows I was able to find the cast</font>"
   ]
  },
  {
   "cell_type": "markdown",
   "id": "stable-seeker",
   "metadata": {},
   "source": [
    "### Finding Missing Country\n",
    "\n",
    "<font color = \"blue\">This is the worst of the lot..... Arghhh what was I thinking! So I guess I will completely go by Mikes' way for this column.</font>"
   ]
  },
  {
   "cell_type": "code",
   "execution_count": 55,
   "id": "referenced-rendering",
   "metadata": {},
   "outputs": [],
   "source": [
    "pd.options.display.max_colwidth = 200"
   ]
  },
  {
   "cell_type": "code",
   "execution_count": 56,
   "id": "persistent-joseph",
   "metadata": {
    "scrolled": false
   },
   "outputs": [],
   "source": [
    "from bs4 import BeautifulSoup\n",
    "\n",
    "import requests"
   ]
  },
  {
   "cell_type": "code",
   "execution_count": 57,
   "id": "forward-adrian",
   "metadata": {},
   "outputs": [],
   "source": [
    "# Read a page from Wikipedia which enlists the adjectivals and denonymns for countries\n",
    "website = requests.get(\"https://en.wikipedia.org/wiki/List_of_adjectival_and_demonymic_forms_for_countries_and_nations\")\n",
    "\n",
    "# parse the htl content\n",
    "soup = BeautifulSoup(website.content, 'html.parser')"
   ]
  },
  {
   "cell_type": "code",
   "execution_count": 58,
   "id": "crazy-ballot",
   "metadata": {
    "scrolled": false
   },
   "outputs": [],
   "source": [
    "# find all the html elements that are of type table\n",
    "tables = soup.find_all('table', class_='sortable')\n",
    "\n",
    "# We only need the table with the 3 columns - Country Name, Adjectival and Denonym\n",
    "# Search among all the tables avaialable and break the loop once found\n",
    "for table in tables:\n",
    "    ths = table.find_all(\"th\")\n",
    "    headings = [th.text.strip() for th in ths]\n",
    "    if headings[:3] == ['Country/entity name', 'Adjectivals', 'Demonyms']:\n",
    "        break\n",
    "\n",
    "# empty dictionary to store the columns - Adjectival and Country - as Key-Value pair respectively  \n",
    "country_dict = {}    \n",
    "\n",
    "# loop through each row in table to capture country-adjectival\n",
    "for tr in table.find_all(\"tr\"):\n",
    "    tds = tr.find_all(\"td\")\n",
    "    if not tds:\n",
    "        continue\n",
    "    # split each row into the 3 variables\n",
    "    country, adjectival, denonym = [td.text.strip() for td in tds]\n",
    "    \n",
    "    # strip and characters/ links from country and adjectival Names\n",
    "    country = re.sub(r\"\\[.*?\\]\", \"\", country).split(\",\")[0]\n",
    "    adjectival = re.sub(r\"\\[.*?\\]\", \"\", adjectival).split(\",\")[0]\n",
    "    \n",
    "    # store the country and adjectival in dictionary \n",
    "    country_dict[adjectival] = country"
   ]
  },
  {
   "cell_type": "code",
   "execution_count": 59,
   "id": "another-ethernet",
   "metadata": {
    "scrolled": false
   },
   "outputs": [],
   "source": [
    "# remove the key-value pairs that may not be required\n",
    "for each in [\"Antarctic\", \"English\", \"European\", \"North Korean\", \"South Korean\", \"South Sudanese\", \"Svalbard resident\"]:\n",
    "    country_dict.pop(each)\n",
    "\n",
    "# Shorten the full-name of Countries to values similar to Netflix Dataset\n",
    "country_dict[\"British\"] = \"United Kingdom\"\n",
    "country_dict[\"American\"] = \"United States\"\n",
    "country_dict[\"Korean\"] = \"South Korea\""
   ]
  },
  {
   "cell_type": "markdown",
   "id": "strategic-account",
   "metadata": {},
   "source": [
    "<font color = \"blue\"> This block of code demonstrates why this idea can't/didn't work:\n",
    "- There are several title with dual location words like \"Age of Glory\". This movie is set/created in Malaysia but has Chinese language.    \n",
    "    \n",
    "- Then we have some records with Latin American or Asian American key-words. But since I only included the key-value pair of American - United States, the resultant country would be so so so WRONG!\n",
    "    \n",
    "- Also researched out this title \"Homeland\". Well here's the trouble with this one: \n",
    "    - This movie has been made in France and India, but it contains Armenian and French in description column. So the loop would first replace Armenian with Armenia and French with France. \n",
    "    - In netflix dataset this title has release year as 2019 but on IMDB it is 2018. https://www.imdb.com/title/tt8010436/?ref_=tt_rvi_tt_i_5\n",
    "</p>\n",
    "    "
   ]
  },
  {
   "cell_type": "code",
   "execution_count": 60,
   "id": "contemporary-examination",
   "metadata": {
    "scrolled": false
   },
   "outputs": [
    {
     "data": {
      "text/html": [
       "<div>\n",
       "<style scoped>\n",
       "    .dataframe tbody tr th:only-of-type {\n",
       "        vertical-align: middle;\n",
       "    }\n",
       "\n",
       "    .dataframe tbody tr th {\n",
       "        vertical-align: top;\n",
       "    }\n",
       "\n",
       "    .dataframe thead th {\n",
       "        text-align: right;\n",
       "    }\n",
       "</style>\n",
       "<table border=\"1\" class=\"dataframe\">\n",
       "  <thead>\n",
       "    <tr style=\"text-align: right;\">\n",
       "      <th></th>\n",
       "      <th>title</th>\n",
       "      <th>description</th>\n",
       "      <th>derived_country</th>\n",
       "    </tr>\n",
       "  </thead>\n",
       "  <tbody>\n",
       "    <tr>\n",
       "      <th>10</th>\n",
       "      <td>Age of Glory</td>\n",
       "      <td>Amid the thriving nightlife of 1960s Kuala Lumpur, three Chinese friends – a showgirl, her housekeeper and a chanteuse – find love and heartbreak.</td>\n",
       "      <td>China</td>\n",
       "    </tr>\n",
       "    <tr>\n",
       "      <th>41</th>\n",
       "      <td>Beauty and the Bitches</td>\n",
       "      <td>Beauty pageant contestants from all over Thailand fight for the crown as they contend with drama and intrigue behind the scenes.</td>\n",
       "      <td>Thailand</td>\n",
       "    </tr>\n",
       "    <tr>\n",
       "      <th>47</th>\n",
       "      <td>Beyblade Burst Evolution</td>\n",
       "      <td>Scouted by a famous Spanish club, Valt Aoi heads to Spain. With their sights on the World League, he and his teammates face the European League first.</td>\n",
       "      <td>Spain</td>\n",
       "    </tr>\n",
       "    <tr>\n",
       "      <th>53</th>\n",
       "      <td>Bling Empire</td>\n",
       "      <td>Follow LA's wildly wealthy Asian and Asian American fun seekers as they go all out with fabulous parties, glamour and drama in this reality series.</td>\n",
       "      <td>United States</td>\n",
       "    </tr>\n",
       "    <tr>\n",
       "      <th>57</th>\n",
       "      <td>Border Patrol</td>\n",
       "      <td>This reality TV series follows the men and women of New Zealand's border patrol in their quest to keep their country safe and secure.</td>\n",
       "      <td>New Zealand</td>\n",
       "    </tr>\n",
       "    <tr>\n",
       "      <th>60</th>\n",
       "      <td>BREAK IT ALL: The History of Rock in Latin America</td>\n",
       "      <td>Soda Stereo, Café Tacvba, Aterciopelados and others figure in this 50-year history of Latin American rock through dictatorships, disasters and dissent.</td>\n",
       "      <td>United States</td>\n",
       "    </tr>\n",
       "    <tr>\n",
       "      <th>78</th>\n",
       "      <td>Cheuk Wan-Chi: Two Night Stand</td>\n",
       "      <td>Writer and stand-up comedian Cheuk Wan-chi cracks wise at the follies of single womanhood and takes on politics in Hong Kong with nuance and flair.</td>\n",
       "      <td>Hong Kong</td>\n",
       "    </tr>\n",
       "    <tr>\n",
       "      <th>96</th>\n",
       "      <td>Club Friday The Series 6</td>\n",
       "      <td>Based on a Thai radio show that gives love advice to callers, this series dramatizes stories of infidelity, love triangles, sexual identity and more.</td>\n",
       "      <td>Thailand</td>\n",
       "    </tr>\n",
       "    <tr>\n",
       "      <th>97</th>\n",
       "      <td>Club Friday The Series 7</td>\n",
       "      <td>More confessional tales of love and heartbreak play out in this next installment of the popular Thai TV series based on a real-life call-in radio show.</td>\n",
       "      <td>Thailand</td>\n",
       "    </tr>\n",
       "    <tr>\n",
       "      <th>98</th>\n",
       "      <td>Club Friday The Series 8</td>\n",
       "      <td>The eighth installment of this popular Thai series, based on a real-life call-in radio show, dramatizes personal stories of romance and heartbreak.</td>\n",
       "      <td>Thailand</td>\n",
       "    </tr>\n",
       "    <tr>\n",
       "      <th>106</th>\n",
       "      <td>Countdown to Death: Pablo Escobar</td>\n",
       "      <td>Through rare interviews, images and wiretap audio, this documentary reconstructs the last nine years of Colombian drug lord Pablo Escobar's life.</td>\n",
       "      <td>Colombia</td>\n",
       "    </tr>\n",
       "    <tr>\n",
       "      <th>130</th>\n",
       "      <td>Dushman</td>\n",
       "      <td>An Indian hotel waiter forms an unlikely bond with a Pakistani colleague when the establishment’s criminal owner threatens to ruin both their lives.</td>\n",
       "      <td>India</td>\n",
       "    </tr>\n",
       "    <tr>\n",
       "      <th>133</th>\n",
       "      <td>El desconocido</td>\n",
       "      <td>Based on real events, the fictional story of Mexican drug lord El Chato's number one hitman, El Cholo.</td>\n",
       "      <td>Mexico</td>\n",
       "    </tr>\n",
       "    <tr>\n",
       "      <th>136</th>\n",
       "      <td>El Viaje: Márama y Rombai</td>\n",
       "      <td>Popular South American bands Márama and Rombai share footage of behind-the-scenes antics and discuss their sudden rise to stardom.</td>\n",
       "      <td>United States</td>\n",
       "    </tr>\n",
       "    <tr>\n",
       "      <th>146</th>\n",
       "      <td>海的儿子</td>\n",
       "      <td>Two brothers start a new life in Singapore, where they run into a childhood friend who falls in love with the elder while attracting the younger.</td>\n",
       "      <td>Singapore</td>\n",
       "    </tr>\n",
       "    <tr>\n",
       "      <th>147</th>\n",
       "      <td>Falz Experience</td>\n",
       "      <td>Playing multiple characters, from lawyer to preacher, Nigerian artist Falz combines cinema with a concert after his successful 2017 end-of-year show.</td>\n",
       "      <td>Nigeria</td>\n",
       "    </tr>\n",
       "    <tr>\n",
       "      <th>174</th>\n",
       "      <td>Ha Unlimited</td>\n",
       "      <td>Three comedians launch a company designed to spread happiness far and wide in this Thai sitcom packed with gags, sound effects and special guests.</td>\n",
       "      <td>Thailand</td>\n",
       "    </tr>\n",
       "    <tr>\n",
       "      <th>187</th>\n",
       "      <td>Homeland</td>\n",
       "      <td>Determined to trace her ancestral history, an Armenian woman travels to a French village, where she befriends a kind man and, better yet, finds herself.</td>\n",
       "      <td>Armenia</td>\n",
       "    </tr>\n",
       "    <tr>\n",
       "      <th>218</th>\n",
       "      <td>Kavin Jay: Everybody Calm Down!</td>\n",
       "      <td>On a mission to defy stereotypes, Malaysian stand-up comedian Kavin Jay shares stories about growing up in the VHS era with his Singapore audience.</td>\n",
       "      <td>Malaysia</td>\n",
       "    </tr>\n",
       "    <tr>\n",
       "      <th>226</th>\n",
       "      <td>Korean Pork Belly Rhapsody</td>\n",
       "      <td>A love letter to pork belly — a perennial favorite among Koreans of every generation — unfolds with an exploration of its history and cooking methods.</td>\n",
       "      <td>South Korea</td>\n",
       "    </tr>\n",
       "    <tr>\n",
       "      <th>227</th>\n",
       "      <td>Krish Trish and Baltiboy</td>\n",
       "      <td>A team of minstrels, including a monkey, cat and donkey, narrate folktales from the Indian regions of Rajasthan, Kerala and Punjab.</td>\n",
       "      <td>India</td>\n",
       "    </tr>\n",
       "    <tr>\n",
       "      <th>229</th>\n",
       "      <td>Krish Trish and Baltiboy: Best Friends Forever</td>\n",
       "      <td>A cat, monkey and donkey team up to narrate folktales about friendship from Northeast India, and the Indian regions of Bihar and Rajasthan.</td>\n",
       "      <td>India</td>\n",
       "    </tr>\n",
       "    <tr>\n",
       "      <th>231</th>\n",
       "      <td>Krish Trish and Baltiboy: Oversmartness Never Pays</td>\n",
       "      <td>A cat, monkey and donkey learn the consequences of cheating through stories from the Indian regions of Rajasthan, West Bengal and Maharashtra.</td>\n",
       "      <td>India</td>\n",
       "    </tr>\n",
       "    <tr>\n",
       "      <th>261</th>\n",
       "      <td>Los 10 años de Peter Capusotto</td>\n",
       "      <td>Fictional personality Peter Capusotto parodies Argentine culture and rock music in a series of humorous sketches with recurring characters.</td>\n",
       "      <td>Argentina</td>\n",
       "    </tr>\n",
       "    <tr>\n",
       "      <th>279</th>\n",
       "      <td>Maz Jobrani: Immigrant</td>\n",
       "      <td>Iranian American comic Maz Jobrani lights up the Kennedy Center with riffs on immigrant life in the Trump era, modern parenting pitfalls and more.</td>\n",
       "      <td>United States</td>\n",
       "    </tr>\n",
       "    <tr>\n",
       "      <th>283</th>\n",
       "      <td>Mighty Little Bheem</td>\n",
       "      <td>An innocent toddler’s boundless curiosity – and extraordinary might – lead to mischief and adventure in his small Indian town.</td>\n",
       "      <td>India</td>\n",
       "    </tr>\n",
       "    <tr>\n",
       "      <th>290</th>\n",
       "      <td>Monty Python Conquers America</td>\n",
       "      <td>Follow the evolution of the British sketch comedy troupe that redefined humor and shaped an entire generation of American comics.</td>\n",
       "      <td>United Kingdom</td>\n",
       "    </tr>\n",
       "    <tr>\n",
       "      <th>294</th>\n",
       "      <td>My Life My Story</td>\n",
       "      <td>Host RJ Anmol conducts in-depth interviews with prominent Indian celebrities, who share the stories that lie behind their successes and failures.</td>\n",
       "      <td>India</td>\n",
       "    </tr>\n",
       "    <tr>\n",
       "      <th>304</th>\n",
       "      <td>Nuestra Lucha Libre</td>\n",
       "      <td>This documentary series lifts the mask on Mexican wrestling, diving into the daily lives of its stars, examining the sport’s cultural impact and more.</td>\n",
       "      <td>Mexico</td>\n",
       "    </tr>\n",
       "    <tr>\n",
       "      <th>311</th>\n",
       "      <td>Operation Odessa</td>\n",
       "      <td>A Russian mobster, a Cuban spy and a smooth operator from Miami scheme to sell a Soviet submarine to a Colombian drug cartel for $35 million.</td>\n",
       "      <td>Colombia</td>\n",
       "    </tr>\n",
       "    <tr>\n",
       "      <th>312</th>\n",
       "      <td>Ordinary Heroes</td>\n",
       "      <td>Get an intimate look at four engaged citizens whose courage, sense of civic duty and ultimate sacrifice helped to transform Italian society.</td>\n",
       "      <td>Italy</td>\n",
       "    </tr>\n",
       "    <tr>\n",
       "      <th>347</th>\n",
       "      <td>Rafał Banaś, Michał Leja Laugh out Loud</td>\n",
       "      <td>Young Polish comedians Rafał Banaś and Michał Leja present a high-energy stand-up show at Warsaw's Klub Hybrydy.</td>\n",
       "      <td>Poland</td>\n",
       "    </tr>\n",
       "    <tr>\n",
       "      <th>358</th>\n",
       "      <td>Riot</td>\n",
       "      <td>Seeking vengeance for the murder of his wife, a cop robs a bank in order to be thrown into prison with the Russian kingpin who ruined his life.</td>\n",
       "      <td>Russia</td>\n",
       "    </tr>\n",
       "    <tr>\n",
       "      <th>360</th>\n",
       "      <td>Roots</td>\n",
       "      <td>This documentary explores the rich heritage of Indian classical music and the reasons behind its modern decline in popularity.</td>\n",
       "      <td>India</td>\n",
       "    </tr>\n",
       "    <tr>\n",
       "      <th>385</th>\n",
       "      <td>Street Food: Latin America</td>\n",
       "      <td>In this vibrant docuseries, Latin American chefs tell their stories and bring a taste of tradition and innovation to their delicious offerings.</td>\n",
       "      <td>United States</td>\n",
       "    </tr>\n",
       "    <tr>\n",
       "      <th>401</th>\n",
       "      <td>The 43</td>\n",
       "      <td>This docuseries disputes the Mexican government's account of how and why 43 students from Ayotzinapa Rural Teachers' College vanished in Iguala in 2014.</td>\n",
       "      <td>Mexico</td>\n",
       "    </tr>\n",
       "    <tr>\n",
       "      <th>403</th>\n",
       "      <td>The American Game</td>\n",
       "      <td>A financially struggling young couple's relationship is tested when the CEO of the company they work for tempts them with a nearly irresistible offer.</td>\n",
       "      <td>United States</td>\n",
       "    </tr>\n",
       "    <tr>\n",
       "      <th>422</th>\n",
       "      <td>The Great British Baking Show: Holidays</td>\n",
       "      <td>Deck the halls with sugar, butter and chocolate as competitors from past seasons bake sweet Yuletide treats for judges Paul Hollywood and Prue Leith.</td>\n",
       "      <td>United Kingdom</td>\n",
       "    </tr>\n",
       "    <tr>\n",
       "      <th>423</th>\n",
       "      <td>The Great British Baking Show: The Beginnings</td>\n",
       "      <td>A dozen amateur bakers amiably compete for the coveted title of Britain's best as they whip up tasty treats for judges Mary Berry and Paul Hollywood.</td>\n",
       "      <td>United Kingdom</td>\n",
       "    </tr>\n",
       "    <tr>\n",
       "      <th>426</th>\n",
       "      <td>The Homecoming</td>\n",
       "      <td>Panelists from the Korean show \"Abnormal Summit\" lead cast mates on tours of their home countries, including China, Nepal, Italy, Canada and France.</td>\n",
       "      <td>South Korea</td>\n",
       "    </tr>\n",
       "    <tr>\n",
       "      <th>428</th>\n",
       "      <td>The Irish Mob</td>\n",
       "      <td>This documentary crime series charts the rise of the Irish Mob in America, from urban immigrant poverty to political power and wealth.</td>\n",
       "      <td>Ireland</td>\n",
       "    </tr>\n",
       "    <tr>\n",
       "      <th>433</th>\n",
       "      <td>The Little Nyonya</td>\n",
       "      <td>An orphaned Chinese woman in Singapore refuses to yield to her lowly station in life, setting her family on a tumultuous course for generations.</td>\n",
       "      <td>China</td>\n",
       "    </tr>\n",
       "    <tr>\n",
       "      <th>437</th>\n",
       "      <td>The Perfect Day</td>\n",
       "      <td>French soccer fans, celebrities and athletes retrace the exhilarating events of July 12, 1998, as France earned a historic win in the World Cup final.</td>\n",
       "      <td>France</td>\n",
       "    </tr>\n",
       "    <tr>\n",
       "      <th>455</th>\n",
       "      <td>Timeline</td>\n",
       "      <td>Firsthand accounts, re-enactments and computer-generated graphics retell in detail Thailand's biggest news stories from the past.</td>\n",
       "      <td>Thailand</td>\n",
       "    </tr>\n",
       "    <tr>\n",
       "      <th>461</th>\n",
       "      <td>Trailer Park Boys: Out of the Park: USA</td>\n",
       "      <td>The boys are back on the loose as Bubbles, Julian and Ricky head south of the Canadian border for some outrageous American adventures.</td>\n",
       "      <td>Canada</td>\n",
       "    </tr>\n",
       "    <tr>\n",
       "      <th>480</th>\n",
       "      <td>Unlucky Ploy</td>\n",
       "      <td>In this remake of the Korean series, a man becomes mired in the lives of two women who happen to share the same name.</td>\n",
       "      <td>South Korea</td>\n",
       "    </tr>\n",
       "    <tr>\n",
       "      <th>497</th>\n",
       "      <td>Ya no estoy aquí: Una conversación entre Guillermo del Toro y Alfonso Cuarón</td>\n",
       "      <td>Guillermo del Toro and Alfonso Cuarón discuss fellow Mexican director Fernando Frías de la Parra's award-winning film \"I'm No Longer Here.\"</td>\n",
       "      <td>Mexico</td>\n",
       "    </tr>\n",
       "    <tr>\n",
       "      <th>505</th>\n",
       "      <td>Zulu Man in Japan</td>\n",
       "      <td>In this documentary, South African rapper Nasty C hits the stage and streets of Tokyo, introducing himself to the city's sights, sounds and culture.</td>\n",
       "      <td>South Africa</td>\n",
       "    </tr>\n",
       "  </tbody>\n",
       "</table>\n",
       "</div>"
      ],
      "text/plain": [
       "                                                                            title  \\\n",
       "10                                                                   Age of Glory   \n",
       "41                                                         Beauty and the Bitches   \n",
       "47                                                       Beyblade Burst Evolution   \n",
       "53                                                                   Bling Empire   \n",
       "57                                                                  Border Patrol   \n",
       "60                             BREAK IT ALL: The History of Rock in Latin America   \n",
       "78                                                 Cheuk Wan-Chi: Two Night Stand   \n",
       "96                                                       Club Friday The Series 6   \n",
       "97                                                       Club Friday The Series 7   \n",
       "98                                                       Club Friday The Series 8   \n",
       "106                                             Countdown to Death: Pablo Escobar   \n",
       "130                                                                       Dushman   \n",
       "133                                                                El desconocido   \n",
       "136                                                     El Viaje: Márama y Rombai   \n",
       "146                                                                          海的儿子   \n",
       "147                                                               Falz Experience   \n",
       "174                                                                  Ha Unlimited   \n",
       "187                                                                      Homeland   \n",
       "218                                               Kavin Jay: Everybody Calm Down!   \n",
       "226                                                    Korean Pork Belly Rhapsody   \n",
       "227                                                      Krish Trish and Baltiboy   \n",
       "229                                Krish Trish and Baltiboy: Best Friends Forever   \n",
       "231                            Krish Trish and Baltiboy: Oversmartness Never Pays   \n",
       "261                                                Los 10 años de Peter Capusotto   \n",
       "279                                                        Maz Jobrani: Immigrant   \n",
       "283                                                           Mighty Little Bheem   \n",
       "290                                                 Monty Python Conquers America   \n",
       "294                                                              My Life My Story   \n",
       "304                                                           Nuestra Lucha Libre   \n",
       "311                                                              Operation Odessa   \n",
       "312                                                               Ordinary Heroes   \n",
       "347                                       Rafał Banaś, Michał Leja Laugh out Loud   \n",
       "358                                                                          Riot   \n",
       "360                                                                         Roots   \n",
       "385                                                    Street Food: Latin America   \n",
       "401                                                                        The 43   \n",
       "403                                                             The American Game   \n",
       "422                                       The Great British Baking Show: Holidays   \n",
       "423                                 The Great British Baking Show: The Beginnings   \n",
       "426                                                                The Homecoming   \n",
       "428                                                                 The Irish Mob   \n",
       "433                                                             The Little Nyonya   \n",
       "437                                                               The Perfect Day   \n",
       "455                                                                      Timeline   \n",
       "461                                       Trailer Park Boys: Out of the Park: USA   \n",
       "480                                                                  Unlucky Ploy   \n",
       "497  Ya no estoy aquí: Una conversación entre Guillermo del Toro y Alfonso Cuarón   \n",
       "505                                                             Zulu Man in Japan   \n",
       "\n",
       "                                                                                                                                                  description  \\\n",
       "10         Amid the thriving nightlife of 1960s Kuala Lumpur, three Chinese friends – a showgirl, her housekeeper and a chanteuse – find love and heartbreak.   \n",
       "41                           Beauty pageant contestants from all over Thailand fight for the crown as they contend with drama and intrigue behind the scenes.   \n",
       "47     Scouted by a famous Spanish club, Valt Aoi heads to Spain. With their sights on the World League, he and his teammates face the European League first.   \n",
       "53        Follow LA's wildly wealthy Asian and Asian American fun seekers as they go all out with fabulous parties, glamour and drama in this reality series.   \n",
       "57                      This reality TV series follows the men and women of New Zealand's border patrol in their quest to keep their country safe and secure.   \n",
       "60    Soda Stereo, Café Tacvba, Aterciopelados and others figure in this 50-year history of Latin American rock through dictatorships, disasters and dissent.   \n",
       "78        Writer and stand-up comedian Cheuk Wan-chi cracks wise at the follies of single womanhood and takes on politics in Hong Kong with nuance and flair.   \n",
       "96      Based on a Thai radio show that gives love advice to callers, this series dramatizes stories of infidelity, love triangles, sexual identity and more.   \n",
       "97    More confessional tales of love and heartbreak play out in this next installment of the popular Thai TV series based on a real-life call-in radio show.   \n",
       "98        The eighth installment of this popular Thai series, based on a real-life call-in radio show, dramatizes personal stories of romance and heartbreak.   \n",
       "106         Through rare interviews, images and wiretap audio, this documentary reconstructs the last nine years of Colombian drug lord Pablo Escobar's life.   \n",
       "130      An Indian hotel waiter forms an unlikely bond with a Pakistani colleague when the establishment’s criminal owner threatens to ruin both their lives.   \n",
       "133                                                    Based on real events, the fictional story of Mexican drug lord El Chato's number one hitman, El Cholo.   \n",
       "136                        Popular South American bands Márama and Rombai share footage of behind-the-scenes antics and discuss their sudden rise to stardom.   \n",
       "146         Two brothers start a new life in Singapore, where they run into a childhood friend who falls in love with the elder while attracting the younger.   \n",
       "147     Playing multiple characters, from lawyer to preacher, Nigerian artist Falz combines cinema with a concert after his successful 2017 end-of-year show.   \n",
       "174        Three comedians launch a company designed to spread happiness far and wide in this Thai sitcom packed with gags, sound effects and special guests.   \n",
       "187  Determined to trace her ancestral history, an Armenian woman travels to a French village, where she befriends a kind man and, better yet, finds herself.   \n",
       "218       On a mission to defy stereotypes, Malaysian stand-up comedian Kavin Jay shares stories about growing up in the VHS era with his Singapore audience.   \n",
       "226    A love letter to pork belly — a perennial favorite among Koreans of every generation — unfolds with an exploration of its history and cooking methods.   \n",
       "227                       A team of minstrels, including a monkey, cat and donkey, narrate folktales from the Indian regions of Rajasthan, Kerala and Punjab.   \n",
       "229               A cat, monkey and donkey team up to narrate folktales about friendship from Northeast India, and the Indian regions of Bihar and Rajasthan.   \n",
       "231            A cat, monkey and donkey learn the consequences of cheating through stories from the Indian regions of Rajasthan, West Bengal and Maharashtra.   \n",
       "261               Fictional personality Peter Capusotto parodies Argentine culture and rock music in a series of humorous sketches with recurring characters.   \n",
       "279        Iranian American comic Maz Jobrani lights up the Kennedy Center with riffs on immigrant life in the Trump era, modern parenting pitfalls and more.   \n",
       "283                            An innocent toddler’s boundless curiosity – and extraordinary might – lead to mischief and adventure in his small Indian town.   \n",
       "290                         Follow the evolution of the British sketch comedy troupe that redefined humor and shaped an entire generation of American comics.   \n",
       "294         Host RJ Anmol conducts in-depth interviews with prominent Indian celebrities, who share the stories that lie behind their successes and failures.   \n",
       "304    This documentary series lifts the mask on Mexican wrestling, diving into the daily lives of its stars, examining the sport’s cultural impact and more.   \n",
       "311             A Russian mobster, a Cuban spy and a smooth operator from Miami scheme to sell a Soviet submarine to a Colombian drug cartel for $35 million.   \n",
       "312              Get an intimate look at four engaged citizens whose courage, sense of civic duty and ultimate sacrifice helped to transform Italian society.   \n",
       "347                                          Young Polish comedians Rafał Banaś and Michał Leja present a high-energy stand-up show at Warsaw's Klub Hybrydy.   \n",
       "358           Seeking vengeance for the murder of his wife, a cop robs a bank in order to be thrown into prison with the Russian kingpin who ruined his life.   \n",
       "360                            This documentary explores the rich heritage of Indian classical music and the reasons behind its modern decline in popularity.   \n",
       "385           In this vibrant docuseries, Latin American chefs tell their stories and bring a taste of tradition and innovation to their delicious offerings.   \n",
       "401  This docuseries disputes the Mexican government's account of how and why 43 students from Ayotzinapa Rural Teachers' College vanished in Iguala in 2014.   \n",
       "403    A financially struggling young couple's relationship is tested when the CEO of the company they work for tempts them with a nearly irresistible offer.   \n",
       "422     Deck the halls with sugar, butter and chocolate as competitors from past seasons bake sweet Yuletide treats for judges Paul Hollywood and Prue Leith.   \n",
       "423     A dozen amateur bakers amiably compete for the coveted title of Britain's best as they whip up tasty treats for judges Mary Berry and Paul Hollywood.   \n",
       "426      Panelists from the Korean show \"Abnormal Summit\" lead cast mates on tours of their home countries, including China, Nepal, Italy, Canada and France.   \n",
       "428                    This documentary crime series charts the rise of the Irish Mob in America, from urban immigrant poverty to political power and wealth.   \n",
       "433          An orphaned Chinese woman in Singapore refuses to yield to her lowly station in life, setting her family on a tumultuous course for generations.   \n",
       "437    French soccer fans, celebrities and athletes retrace the exhilarating events of July 12, 1998, as France earned a historic win in the World Cup final.   \n",
       "455                         Firsthand accounts, re-enactments and computer-generated graphics retell in detail Thailand's biggest news stories from the past.   \n",
       "461                    The boys are back on the loose as Bubbles, Julian and Ricky head south of the Canadian border for some outrageous American adventures.   \n",
       "480                                     In this remake of the Korean series, a man becomes mired in the lives of two women who happen to share the same name.   \n",
       "497               Guillermo del Toro and Alfonso Cuarón discuss fellow Mexican director Fernando Frías de la Parra's award-winning film \"I'm No Longer Here.\"   \n",
       "505      In this documentary, South African rapper Nasty C hits the stage and streets of Tokyo, introducing himself to the city's sights, sounds and culture.   \n",
       "\n",
       "    derived_country  \n",
       "10            China  \n",
       "41         Thailand  \n",
       "47            Spain  \n",
       "53    United States  \n",
       "57      New Zealand  \n",
       "60    United States  \n",
       "78        Hong Kong  \n",
       "96         Thailand  \n",
       "97         Thailand  \n",
       "98         Thailand  \n",
       "106        Colombia  \n",
       "130           India  \n",
       "133          Mexico  \n",
       "136   United States  \n",
       "146       Singapore  \n",
       "147         Nigeria  \n",
       "174        Thailand  \n",
       "187         Armenia  \n",
       "218        Malaysia  \n",
       "226     South Korea  \n",
       "227           India  \n",
       "229           India  \n",
       "231           India  \n",
       "261       Argentina  \n",
       "279   United States  \n",
       "283           India  \n",
       "290  United Kingdom  \n",
       "294           India  \n",
       "304          Mexico  \n",
       "311        Colombia  \n",
       "312           Italy  \n",
       "347          Poland  \n",
       "358          Russia  \n",
       "360           India  \n",
       "385   United States  \n",
       "401          Mexico  \n",
       "403   United States  \n",
       "422  United Kingdom  \n",
       "423  United Kingdom  \n",
       "426     South Korea  \n",
       "428         Ireland  \n",
       "433           China  \n",
       "437          France  \n",
       "455        Thailand  \n",
       "461          Canada  \n",
       "480     South Korea  \n",
       "497          Mexico  \n",
       "505    South Africa  "
      ]
     },
     "execution_count": 60,
     "metadata": {},
     "output_type": "execute_result"
    }
   ],
   "source": [
    "# test work with Adjectival-Country (as key-value pair) dictionary \n",
    "sample = missing_country[[\"title\", \"description\"]]\n",
    "\n",
    "# function to find adjectival and replace with the Country Name\n",
    "def test_func(in_row):\n",
    "    # loop through each of the key-value pair\n",
    "    for key, val in country_dict.items():\n",
    "        \n",
    "        # first search in description Column\n",
    "        if (in_row[\"description\"].find(key) or in_row[\"description\"].find(val)) > 0:\n",
    "            return val\n",
    "        \n",
    "        # else search in title Column\n",
    "        elif (in_row[\"title\"].find(key) or in_row[\"title\"].find(val)) > 0:\n",
    "            return val\n",
    "        # RETURN THE COUNTRY NAME IN EITHER CASE    \n",
    "    \n",
    "# Save the derived results in a separate column\n",
    "sample = sample.copy()\n",
    "sample[\"derived_country\"] = sample.apply(test_func, axis = 1)\n",
    "\n",
    "# display all the rows in sample dataframe where derived_country column is not null\n",
    "sample[sample[\"derived_country\"].notnull()]"
   ]
  },
  {
   "cell_type": "code",
   "execution_count": 61,
   "id": "toxic-boston",
   "metadata": {
    "scrolled": false
   },
   "outputs": [
    {
     "data": {
      "text/plain": [
       "21                                Angu Vaikuntapurathu (Malayalam)\n",
       "88     ChuChuTV Bedtime Stories & Moral Stories for Kids (English)\n",
       "89       ChuChuTV Bedtime Stories & Moral Stories for Kids (Hindi)\n",
       "90                ChuChuTV Surprise Eggs Learning Videos (English)\n",
       "91                  ChuChuTV Surprise Eggs Learning Videos (Hindi)\n",
       "309                                           Oh! Baby (Malayalam)\n",
       "310                                               Oh! Baby (Tamil)\n",
       "375                                                 Seven (Telugu)\n",
       "399                                            Thackeray (Marathi)\n",
       "Name: title, dtype: object"
      ]
     },
     "execution_count": 61,
     "metadata": {},
     "output_type": "execute_result"
    }
   ],
   "source": [
    "# pattern work to match the Step2B in Mike's Presentation\n",
    "missing_country.loc[missing_country[\"title\"].str.contains(r\"\\(\\w+\\)\"), \"title\"]"
   ]
  },
  {
   "cell_type": "markdown",
   "id": "passing-boards",
   "metadata": {},
   "source": [
    "### Following is an incomplete experimentation\n",
    "\n",
    "<font color = \"blue\"> Which I realized is just too much work. </font>"
   ]
  },
  {
   "cell_type": "code",
   "execution_count": 62,
   "id": "fabulous-personality",
   "metadata": {
    "scrolled": false
   },
   "outputs": [
    {
     "name": "stdout",
     "output_type": "stream",
     "text": [
      "The data file title_akas.tsv contains 26326374 rows and 8 columns\n",
      "============================================================\n",
      "        ColumnName  MissingValue%\n",
      "0          titleId           0.00\n",
      "1         ordering           0.00\n",
      "2            title           0.00\n",
      "3           region           2.37\n",
      "4         language          16.80\n",
      "5            types          92.16\n",
      "6       attributes          99.16\n",
      "7  isOriginalTitle           0.01\n"
     ]
    }
   ],
   "source": [
    "\"\"\" Read the title_akas.tsv file \"\"\"\n",
    "title_akas = iw.read_imdb_files(file_name = imdb_file_names[0], file_directory = imdb_dir)"
   ]
  },
  {
   "cell_type": "code",
   "execution_count": 63,
   "id": "accompanied-russia",
   "metadata": {},
   "outputs": [],
   "source": [
    "missing_country[\"combo\"] = missing_country[\"title\"].str.replace(r\"[^\\w\\s]+\", \"\", regex = True).str.lower().\\\n",
    "                           str.cat(missing_country[\"release_year\"].astype(str), sep = \"_\")\n",
    "\n",
    "# missing_country.head()"
   ]
  },
  {
   "cell_type": "code",
   "execution_count": 64,
   "id": "fewer-hollow",
   "metadata": {},
   "outputs": [
    {
     "name": "stdout",
     "output_type": "stream",
     "text": [
      "(197, 2)\n"
     ]
    },
    {
     "data": {
      "text/html": [
       "<div>\n",
       "<style scoped>\n",
       "    .dataframe tbody tr th:only-of-type {\n",
       "        vertical-align: middle;\n",
       "    }\n",
       "\n",
       "    .dataframe tbody tr th {\n",
       "        vertical-align: top;\n",
       "    }\n",
       "\n",
       "    .dataframe thead th {\n",
       "        text-align: right;\n",
       "    }\n",
       "</style>\n",
       "<table border=\"1\" class=\"dataframe\">\n",
       "  <thead>\n",
       "    <tr style=\"text-align: right;\">\n",
       "      <th></th>\n",
       "      <th>combo</th>\n",
       "      <th>tconst</th>\n",
       "    </tr>\n",
       "  </thead>\n",
       "  <tbody>\n",
       "    <tr>\n",
       "      <th>0</th>\n",
       "      <td>13th a conversation with oprah winfrey  ava duvernay_2017</td>\n",
       "      <td>[tt6491068]</td>\n",
       "    </tr>\n",
       "    <tr>\n",
       "      <th>1</th>\n",
       "      <td>3 deewarein_2003</td>\n",
       "      <td>[tt0338490]</td>\n",
       "    </tr>\n",
       "    <tr>\n",
       "      <th>2</th>\n",
       "      <td>a go go cory carson halloween_2020</td>\n",
       "      <td>[tt13058374]</td>\n",
       "    </tr>\n",
       "    <tr>\n",
       "      <th>3</th>\n",
       "      <td>a trash truck christmas_2020</td>\n",
       "      <td>[tt13458584]</td>\n",
       "    </tr>\n",
       "    <tr>\n",
       "      <th>4</th>\n",
       "      <td>al acecho_2019</td>\n",
       "      <td>[tt11287390]</td>\n",
       "    </tr>\n",
       "  </tbody>\n",
       "</table>\n",
       "</div>"
      ],
      "text/plain": [
       "                                                       combo        tconst\n",
       "0  13th a conversation with oprah winfrey  ava duvernay_2017   [tt6491068]\n",
       "1                                           3 deewarein_2003   [tt0338490]\n",
       "2                         a go go cory carson halloween_2020  [tt13058374]\n",
       "3                               a trash truck christmas_2020  [tt13458584]\n",
       "4                                             al acecho_2019  [tt11287390]"
      ]
     },
     "execution_count": 64,
     "metadata": {},
     "output_type": "execute_result"
    }
   ],
   "source": [
    "match_df = title_basics.loc[title_basics[\"combo\"].isin(missing_country[\"combo\"]), \n",
    "                            [\"tconst\", \"combo\"]].reset_index(drop = True).groupby(\"combo\")[\"tconst\"].unique().reset_index()\n",
    "\n",
    "print(match_df.shape)\n",
    "\n",
    "match_df.head()"
   ]
  },
  {
   "cell_type": "code",
   "execution_count": 65,
   "id": "precise-ratio",
   "metadata": {},
   "outputs": [
    {
     "data": {
      "text/plain": [
       "(155, 2)"
      ]
     },
     "execution_count": 65,
     "metadata": {},
     "output_type": "execute_result"
    }
   ],
   "source": [
    "match_df = match_df[match_df[\"tconst\"].str.len() == 1].set_index(\"combo\").explode(\"tconst\").reset_index()\n",
    "\n",
    "match_df.shape"
   ]
  },
  {
   "cell_type": "code",
   "execution_count": 66,
   "id": "maritime-current",
   "metadata": {},
   "outputs": [
    {
     "data": {
      "text/html": [
       "<div>\n",
       "<style scoped>\n",
       "    .dataframe tbody tr th:only-of-type {\n",
       "        vertical-align: middle;\n",
       "    }\n",
       "\n",
       "    .dataframe tbody tr th {\n",
       "        vertical-align: top;\n",
       "    }\n",
       "\n",
       "    .dataframe thead th {\n",
       "        text-align: right;\n",
       "    }\n",
       "</style>\n",
       "<table border=\"1\" class=\"dataframe\">\n",
       "  <thead>\n",
       "    <tr style=\"text-align: right;\">\n",
       "      <th></th>\n",
       "      <th>combo</th>\n",
       "      <th>tconst</th>\n",
       "    </tr>\n",
       "  </thead>\n",
       "  <tbody>\n",
       "    <tr>\n",
       "      <th>0</th>\n",
       "      <td>13th a conversation with oprah winfrey  ava duvernay_2017</td>\n",
       "      <td>tt6491068</td>\n",
       "    </tr>\n",
       "    <tr>\n",
       "      <th>1</th>\n",
       "      <td>3 deewarein_2003</td>\n",
       "      <td>tt0338490</td>\n",
       "    </tr>\n",
       "    <tr>\n",
       "      <th>2</th>\n",
       "      <td>a go go cory carson halloween_2020</td>\n",
       "      <td>tt13058374</td>\n",
       "    </tr>\n",
       "    <tr>\n",
       "      <th>3</th>\n",
       "      <td>a trash truck christmas_2020</td>\n",
       "      <td>tt13458584</td>\n",
       "    </tr>\n",
       "    <tr>\n",
       "      <th>4</th>\n",
       "      <td>al acecho_2019</td>\n",
       "      <td>tt11287390</td>\n",
       "    </tr>\n",
       "    <tr>\n",
       "      <th>...</th>\n",
       "      <td>...</td>\n",
       "      <td>...</td>\n",
       "    </tr>\n",
       "    <tr>\n",
       "      <th>150</th>\n",
       "      <td>westside vs the world_2019</td>\n",
       "      <td>tt10876506</td>\n",
       "    </tr>\n",
       "    <tr>\n",
       "      <th>151</th>\n",
       "      <td>whitney cummings can i touch it_2019</td>\n",
       "      <td>tt10521638</td>\n",
       "    </tr>\n",
       "    <tr>\n",
       "      <th>152</th>\n",
       "      <td>wish upon a unicorn_2020</td>\n",
       "      <td>tt10798660</td>\n",
       "    </tr>\n",
       "    <tr>\n",
       "      <th>153</th>\n",
       "      <td>wish you_2021</td>\n",
       "      <td>tt13866142</td>\n",
       "    </tr>\n",
       "    <tr>\n",
       "      <th>154</th>\n",
       "      <td>your excellency_2019</td>\n",
       "      <td>tt11489288</td>\n",
       "    </tr>\n",
       "  </tbody>\n",
       "</table>\n",
       "<p>155 rows × 2 columns</p>\n",
       "</div>"
      ],
      "text/plain": [
       "                                                         combo      tconst\n",
       "0    13th a conversation with oprah winfrey  ava duvernay_2017   tt6491068\n",
       "1                                             3 deewarein_2003   tt0338490\n",
       "2                           a go go cory carson halloween_2020  tt13058374\n",
       "3                                 a trash truck christmas_2020  tt13458584\n",
       "4                                               al acecho_2019  tt11287390\n",
       "..                                                         ...         ...\n",
       "150                                 westside vs the world_2019  tt10876506\n",
       "151                       whitney cummings can i touch it_2019  tt10521638\n",
       "152                                   wish upon a unicorn_2020  tt10798660\n",
       "153                                              wish you_2021  tt13866142\n",
       "154                                       your excellency_2019  tt11489288\n",
       "\n",
       "[155 rows x 2 columns]"
      ]
     },
     "execution_count": 66,
     "metadata": {},
     "output_type": "execute_result"
    }
   ],
   "source": [
    "match_df"
   ]
  },
  {
   "cell_type": "code",
   "execution_count": 67,
   "id": "measured-indonesian",
   "metadata": {},
   "outputs": [
    {
     "data": {
      "text/html": [
       "<div>\n",
       "<style scoped>\n",
       "    .dataframe tbody tr th:only-of-type {\n",
       "        vertical-align: middle;\n",
       "    }\n",
       "\n",
       "    .dataframe tbody tr th {\n",
       "        vertical-align: top;\n",
       "    }\n",
       "\n",
       "    .dataframe thead th {\n",
       "        text-align: right;\n",
       "    }\n",
       "</style>\n",
       "<table border=\"1\" class=\"dataframe\">\n",
       "  <thead>\n",
       "    <tr style=\"text-align: right;\">\n",
       "      <th></th>\n",
       "      <th>titleId</th>\n",
       "      <th>ordering</th>\n",
       "      <th>title</th>\n",
       "      <th>region</th>\n",
       "      <th>language</th>\n",
       "      <th>types</th>\n",
       "      <th>attributes</th>\n",
       "      <th>isOriginalTitle</th>\n",
       "    </tr>\n",
       "  </thead>\n",
       "  <tbody>\n",
       "    <tr>\n",
       "      <th>0</th>\n",
       "      <td>tt0000001</td>\n",
       "      <td>1</td>\n",
       "      <td>Карменсіта</td>\n",
       "      <td>UA</td>\n",
       "      <td>NaN</td>\n",
       "      <td>imdbDisplay</td>\n",
       "      <td>NaN</td>\n",
       "      <td>0</td>\n",
       "    </tr>\n",
       "    <tr>\n",
       "      <th>1</th>\n",
       "      <td>tt0000001</td>\n",
       "      <td>2</td>\n",
       "      <td>Carmencita</td>\n",
       "      <td>DE</td>\n",
       "      <td>NaN</td>\n",
       "      <td>NaN</td>\n",
       "      <td>literal title</td>\n",
       "      <td>0</td>\n",
       "    </tr>\n",
       "    <tr>\n",
       "      <th>2</th>\n",
       "      <td>tt0000001</td>\n",
       "      <td>3</td>\n",
       "      <td>Carmencita - spanyol tánc</td>\n",
       "      <td>HU</td>\n",
       "      <td>NaN</td>\n",
       "      <td>imdbDisplay</td>\n",
       "      <td>NaN</td>\n",
       "      <td>0</td>\n",
       "    </tr>\n",
       "    <tr>\n",
       "      <th>3</th>\n",
       "      <td>tt0000001</td>\n",
       "      <td>4</td>\n",
       "      <td>Καρμενσίτα</td>\n",
       "      <td>GR</td>\n",
       "      <td>NaN</td>\n",
       "      <td>imdbDisplay</td>\n",
       "      <td>NaN</td>\n",
       "      <td>0</td>\n",
       "    </tr>\n",
       "    <tr>\n",
       "      <th>4</th>\n",
       "      <td>tt0000001</td>\n",
       "      <td>5</td>\n",
       "      <td>Карменсита</td>\n",
       "      <td>RU</td>\n",
       "      <td>NaN</td>\n",
       "      <td>imdbDisplay</td>\n",
       "      <td>NaN</td>\n",
       "      <td>0</td>\n",
       "    </tr>\n",
       "  </tbody>\n",
       "</table>\n",
       "</div>"
      ],
      "text/plain": [
       "     titleId ordering                      title region language        types  \\\n",
       "0  tt0000001        1                 Карменсіта     UA      NaN  imdbDisplay   \n",
       "1  tt0000001        2                 Carmencita     DE      NaN          NaN   \n",
       "2  tt0000001        3  Carmencita - spanyol tánc     HU      NaN  imdbDisplay   \n",
       "3  tt0000001        4                 Καρμενσίτα     GR      NaN  imdbDisplay   \n",
       "4  tt0000001        5                 Карменсита     RU      NaN  imdbDisplay   \n",
       "\n",
       "      attributes isOriginalTitle  \n",
       "0            NaN               0  \n",
       "1  literal title               0  \n",
       "2            NaN               0  \n",
       "3            NaN               0  \n",
       "4            NaN               0  "
      ]
     },
     "execution_count": 67,
     "metadata": {},
     "output_type": "execute_result"
    }
   ],
   "source": [
    "title_akas.head()"
   ]
  },
  {
   "cell_type": "code",
   "execution_count": 68,
   "id": "crazy-romance",
   "metadata": {},
   "outputs": [
    {
     "data": {
      "text/html": [
       "<div>\n",
       "<style scoped>\n",
       "    .dataframe tbody tr th:only-of-type {\n",
       "        vertical-align: middle;\n",
       "    }\n",
       "\n",
       "    .dataframe tbody tr th {\n",
       "        vertical-align: top;\n",
       "    }\n",
       "\n",
       "    .dataframe thead th {\n",
       "        text-align: right;\n",
       "    }\n",
       "</style>\n",
       "<table border=\"1\" class=\"dataframe\">\n",
       "  <thead>\n",
       "    <tr style=\"text-align: right;\">\n",
       "      <th></th>\n",
       "      <th>show_id</th>\n",
       "      <th>type</th>\n",
       "      <th>title</th>\n",
       "      <th>director</th>\n",
       "      <th>cast</th>\n",
       "      <th>country</th>\n",
       "      <th>date_added</th>\n",
       "      <th>release_year</th>\n",
       "      <th>rating</th>\n",
       "      <th>duration</th>\n",
       "      <th>listed_in</th>\n",
       "      <th>description</th>\n",
       "    </tr>\n",
       "  </thead>\n",
       "  <tbody>\n",
       "    <tr>\n",
       "      <th>2790</th>\n",
       "      <td>s2791</td>\n",
       "      <td>Movie</td>\n",
       "      <td>Homeland</td>\n",
       "      <td>Anindya Chatterjee</td>\n",
       "      <td>Parambrata Chatterjee, Ani Hovhannisyan, Jonathan Dumontier, Varzu, Sylvie de Neef, Prakashchandra Roy, Nicolas Pierson, Anahit Simonyan</td>\n",
       "      <td>NaN</td>\n",
       "      <td>2019-10-15</td>\n",
       "      <td>2019</td>\n",
       "      <td>TV-PG</td>\n",
       "      <td>73 min</td>\n",
       "      <td>Dramas, Independent Movies, International Movies</td>\n",
       "      <td>Determined to trace her ancestral history, an Armenian woman travels to a French village, where she befriends a kind man and, better yet, finds herself.</td>\n",
       "    </tr>\n",
       "  </tbody>\n",
       "</table>\n",
       "</div>"
      ],
      "text/plain": [
       "     show_id   type     title            director  \\\n",
       "2790   s2791  Movie  Homeland  Anindya Chatterjee   \n",
       "\n",
       "                                                                                                                                          cast  \\\n",
       "2790  Parambrata Chatterjee, Ani Hovhannisyan, Jonathan Dumontier, Varzu, Sylvie de Neef, Prakashchandra Roy, Nicolas Pierson, Anahit Simonyan   \n",
       "\n",
       "     country date_added  release_year rating duration  \\\n",
       "2790     NaN 2019-10-15          2019  TV-PG   73 min   \n",
       "\n",
       "                                             listed_in  \\\n",
       "2790  Dramas, Independent Movies, International Movies   \n",
       "\n",
       "                                                                                                                                                   description  \n",
       "2790  Determined to trace her ancestral history, an Armenian woman travels to a French village, where she befriends a kind man and, better yet, finds herself.  "
      ]
     },
     "execution_count": 68,
     "metadata": {},
     "output_type": "execute_result"
    }
   ],
   "source": [
    "netflix_raw_data[netflix_raw_data[\"title\"].str.lower() == \"homeland\"]"
   ]
  }
 ],
 "metadata": {
  "kernelspec": {
   "display_name": "Python 3",
   "language": "python",
   "name": "python3"
  },
  "language_info": {
   "codemirror_mode": {
    "name": "ipython",
    "version": 3
   },
   "file_extension": ".py",
   "mimetype": "text/x-python",
   "name": "python",
   "nbconvert_exporter": "python",
   "pygments_lexer": "ipython3",
   "version": "3.8.3"
  }
 },
 "nbformat": 4,
 "nbformat_minor": 5
}
