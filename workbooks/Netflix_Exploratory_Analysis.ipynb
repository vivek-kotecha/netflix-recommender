{
 "cells": [
  {
   "cell_type": "markdown",
   "id": "noble-function",
   "metadata": {},
   "source": [
    "# Netflix Recommender System - (Draft1)\n",
    "\n",
    "<u>Summary of all the steps done in this notebook:</u>\n",
    "- directories for datasets have been set\n",
    "- dataset file names have been stored in different variables\n",
    "\n",
    "\n",
    "<u>For IMDB Work:</u>\n",
    "- Data Dictionary for IMDB datafile: https://www.imdb.com/interfaces/\n",
    "- Location for IMDB datafiles: https://datasets.imdbws.com/\n",
    "- \"\\N\" represents missing or null values in IMDB datasets. These have been replaced with np.nan\n",
    "\n",
    "\n",
    "<p>since the \"\\\\\" denotes escape character, regex has been applied to avoid the below error: \n",
    "    \n",
    "<b>SyntaxError:</b> (unicode error) 'unicodeescape' codec can't decode bytes in position 0-1: malformed \\N character escape<p>"
   ]
  },
  {
   "cell_type": "markdown",
   "id": "compact-beads",
   "metadata": {},
   "source": [
    "### Import libraries"
   ]
  },
  {
   "cell_type": "code",
   "execution_count": 1,
   "id": "second-memorabilia",
   "metadata": {},
   "outputs": [],
   "source": [
    "import numpy as np\n",
    "import pandas as pd\n",
    "\n",
    "import matplotlib.pyplot as plt\n",
    "import seaborn as sns\n",
    "\n",
    "import os\n",
    "\n",
    "from cycler import cycler\n",
    "\n",
    "%matplotlib inline"
   ]
  },
  {
   "cell_type": "markdown",
   "id": "armed-leisure",
   "metadata": {},
   "source": [
    "### Set default options"
   ]
  },
  {
   "cell_type": "code",
   "execution_count": 2,
   "id": "designing-alpha",
   "metadata": {
    "scrolled": false
   },
   "outputs": [],
   "source": [
    "pd.options.display.max_colwidth = 100\n",
    "plt.style.use('dark_background')\n",
    "plt.rcParams[\"axes.prop_cycle\"] = cycler('color', [\"#f50000\", \"#f00000\", \"#e60000\", \"#e00000\", \"#db0000\", \"#d10000\", \n",
    "                                                   \"#cc0000\", \"#c70000\", \"#bd0000\", \"#b80000\", \"#b30000\", \"#a80000\", \n",
    "                                                   \"#a30000\", \"#9e0000\", \"#940000\"])\n",
    "plt.rcParams[\"figure.figsize\"] = [15, 4]\n",
    "plt.rcParams[\"axes.titlesize\"] = 20\n",
    "plt.rcParams[\"axes.labelsize\"] = 12\n",
    "plt.rcParams[\"font.size\"] = 14\n",
    "plt.rcParams[\"font.weight\"] = \"ultralight\""
   ]
  },
  {
   "cell_type": "code",
   "execution_count": 3,
   "id": "usual-baker",
   "metadata": {
    "scrolled": false
   },
   "outputs": [],
   "source": [
    "# plt.rcParams"
   ]
  },
  {
   "cell_type": "code",
   "execution_count": 4,
   "id": "written-dispatch",
   "metadata": {},
   "outputs": [],
   "source": [
    "# directory that contains netflix dataset\n",
    "net_dir = os.getcwd() + \"\\\\Netflix_Dataset\\\\\"\n",
    "\n",
    "# zip file containing netflix dataset\n",
    "net_zipfile = \"Netflix_Titles.zip\"\n",
    "\n",
    "# Read the file and save in raw dataframe\n",
    "netflix_raw_data = pd.read_csv(net_dir + net_zipfile)"
   ]
  },
  {
   "cell_type": "code",
   "execution_count": 5,
   "id": "reserved-collector",
   "metadata": {},
   "outputs": [
    {
     "name": "stdout",
     "output_type": "stream",
     "text": [
      "<class 'pandas.core.frame.DataFrame'>\n",
      "RangeIndex: 7787 entries, 0 to 7786\n",
      "Data columns (total 12 columns):\n",
      " #   Column        Non-Null Count  Dtype \n",
      "---  ------        --------------  ----- \n",
      " 0   show_id       7787 non-null   object\n",
      " 1   type          7787 non-null   object\n",
      " 2   title         7787 non-null   object\n",
      " 3   director      5398 non-null   object\n",
      " 4   cast          7069 non-null   object\n",
      " 5   country       7280 non-null   object\n",
      " 6   date_added    7777 non-null   object\n",
      " 7   release_year  7787 non-null   int64 \n",
      " 8   rating        7780 non-null   object\n",
      " 9   duration      7787 non-null   object\n",
      " 10  listed_in     7787 non-null   object\n",
      " 11  description   7787 non-null   object\n",
      "dtypes: int64(1), object(11)\n",
      "memory usage: 730.2+ KB\n"
     ]
    },
    {
     "data": {
      "text/html": [
       "<div>\n",
       "<style scoped>\n",
       "    .dataframe tbody tr th:only-of-type {\n",
       "        vertical-align: middle;\n",
       "    }\n",
       "\n",
       "    .dataframe tbody tr th {\n",
       "        vertical-align: top;\n",
       "    }\n",
       "\n",
       "    .dataframe thead th {\n",
       "        text-align: right;\n",
       "    }\n",
       "</style>\n",
       "<table border=\"1\" class=\"dataframe\">\n",
       "  <thead>\n",
       "    <tr style=\"text-align: right;\">\n",
       "      <th></th>\n",
       "      <th>release_year</th>\n",
       "    </tr>\n",
       "  </thead>\n",
       "  <tbody>\n",
       "    <tr>\n",
       "      <th>count</th>\n",
       "      <td>7787.000000</td>\n",
       "    </tr>\n",
       "    <tr>\n",
       "      <th>mean</th>\n",
       "      <td>2013.932580</td>\n",
       "    </tr>\n",
       "    <tr>\n",
       "      <th>std</th>\n",
       "      <td>8.757395</td>\n",
       "    </tr>\n",
       "    <tr>\n",
       "      <th>min</th>\n",
       "      <td>1925.000000</td>\n",
       "    </tr>\n",
       "    <tr>\n",
       "      <th>25%</th>\n",
       "      <td>2013.000000</td>\n",
       "    </tr>\n",
       "    <tr>\n",
       "      <th>50%</th>\n",
       "      <td>2017.000000</td>\n",
       "    </tr>\n",
       "    <tr>\n",
       "      <th>75%</th>\n",
       "      <td>2018.000000</td>\n",
       "    </tr>\n",
       "    <tr>\n",
       "      <th>max</th>\n",
       "      <td>2021.000000</td>\n",
       "    </tr>\n",
       "  </tbody>\n",
       "</table>\n",
       "</div>"
      ],
      "text/plain": [
       "       release_year\n",
       "count   7787.000000\n",
       "mean    2013.932580\n",
       "std        8.757395\n",
       "min     1925.000000\n",
       "25%     2013.000000\n",
       "50%     2017.000000\n",
       "75%     2018.000000\n",
       "max     2021.000000"
      ]
     },
     "execution_count": 5,
     "metadata": {},
     "output_type": "execute_result"
    }
   ],
   "source": [
    "# info and describe raw dataframe\n",
    "netflix_raw_data.info()\n",
    "netflix_raw_data.describe()"
   ]
  },
  {
   "cell_type": "code",
   "execution_count": 6,
   "id": "graphic-receipt",
   "metadata": {},
   "outputs": [
    {
     "name": "stdout",
     "output_type": "stream",
     "text": [
      "No. of duplicated records (if any): 0\n"
     ]
    }
   ],
   "source": [
    "# check for any duplicate records\n",
    "print(\"No. of duplicated records (if any):\", netflix_raw_data.duplicated().sum())"
   ]
  },
  {
   "cell_type": "code",
   "execution_count": 7,
   "id": "romance-rolling",
   "metadata": {},
   "outputs": [
    {
     "data": {
      "text/plain": [
       "Movie      5377\n",
       "TV Show    2410\n",
       "Name: type, dtype: int64"
      ]
     },
     "execution_count": 7,
     "metadata": {},
     "output_type": "execute_result"
    }
   ],
   "source": [
    "# content category\n",
    "netflix_raw_data[\"type\"].value_counts()"
   ]
  },
  {
   "cell_type": "code",
   "execution_count": 8,
   "id": "southern-country",
   "metadata": {},
   "outputs": [
    {
     "data": {
      "text/html": [
       "<div>\n",
       "<style scoped>\n",
       "    .dataframe tbody tr th:only-of-type {\n",
       "        vertical-align: middle;\n",
       "    }\n",
       "\n",
       "    .dataframe tbody tr th {\n",
       "        vertical-align: top;\n",
       "    }\n",
       "\n",
       "    .dataframe thead th {\n",
       "        text-align: right;\n",
       "    }\n",
       "</style>\n",
       "<table border=\"1\" class=\"dataframe\">\n",
       "  <thead>\n",
       "    <tr style=\"text-align: right;\">\n",
       "      <th></th>\n",
       "      <th>show_id</th>\n",
       "      <th>type</th>\n",
       "      <th>title</th>\n",
       "      <th>director</th>\n",
       "      <th>cast</th>\n",
       "      <th>country</th>\n",
       "      <th>date_added</th>\n",
       "      <th>release_year</th>\n",
       "      <th>rating</th>\n",
       "      <th>duration</th>\n",
       "      <th>listed_in</th>\n",
       "      <th>description</th>\n",
       "    </tr>\n",
       "  </thead>\n",
       "  <tbody>\n",
       "    <tr>\n",
       "      <th>7784</th>\n",
       "      <td>s7785</td>\n",
       "      <td>Movie</td>\n",
       "      <td>Zulu Man in Japan</td>\n",
       "      <td>NaN</td>\n",
       "      <td>Nasty C</td>\n",
       "      <td>NaN</td>\n",
       "      <td>September 25, 2020</td>\n",
       "      <td>2019</td>\n",
       "      <td>TV-MA</td>\n",
       "      <td>44 min</td>\n",
       "      <td>Documentaries, International Movies, Music &amp; Musicals</td>\n",
       "      <td>In this documentary, South African rapper Nasty C hits the stage and streets of Tokyo, introduci...</td>\n",
       "    </tr>\n",
       "    <tr>\n",
       "      <th>7785</th>\n",
       "      <td>s7786</td>\n",
       "      <td>TV Show</td>\n",
       "      <td>Zumbo's Just Desserts</td>\n",
       "      <td>NaN</td>\n",
       "      <td>Adriano Zumbo, Rachel Khoo</td>\n",
       "      <td>Australia</td>\n",
       "      <td>October 31, 2020</td>\n",
       "      <td>2019</td>\n",
       "      <td>TV-PG</td>\n",
       "      <td>1 Season</td>\n",
       "      <td>International TV Shows, Reality TV</td>\n",
       "      <td>Dessert wizard Adriano Zumbo looks for the next “Willy Wonka” in this tense competition that fin...</td>\n",
       "    </tr>\n",
       "    <tr>\n",
       "      <th>7786</th>\n",
       "      <td>s7787</td>\n",
       "      <td>Movie</td>\n",
       "      <td>ZZ TOP: THAT LITTLE OL' BAND FROM TEXAS</td>\n",
       "      <td>Sam Dunn</td>\n",
       "      <td>NaN</td>\n",
       "      <td>United Kingdom, Canada, United States</td>\n",
       "      <td>March 1, 2020</td>\n",
       "      <td>2019</td>\n",
       "      <td>TV-MA</td>\n",
       "      <td>90 min</td>\n",
       "      <td>Documentaries, Music &amp; Musicals</td>\n",
       "      <td>This documentary delves into the mystique behind the blues-rock trio and explores how the enigma...</td>\n",
       "    </tr>\n",
       "  </tbody>\n",
       "</table>\n",
       "</div>"
      ],
      "text/plain": [
       "     show_id     type                                    title  director  \\\n",
       "7784   s7785    Movie                        Zulu Man in Japan       NaN   \n",
       "7785   s7786  TV Show                    Zumbo's Just Desserts       NaN   \n",
       "7786   s7787    Movie  ZZ TOP: THAT LITTLE OL' BAND FROM TEXAS  Sam Dunn   \n",
       "\n",
       "                            cast                                country  \\\n",
       "7784                     Nasty C                                    NaN   \n",
       "7785  Adriano Zumbo, Rachel Khoo                              Australia   \n",
       "7786                         NaN  United Kingdom, Canada, United States   \n",
       "\n",
       "              date_added  release_year rating  duration  \\\n",
       "7784  September 25, 2020          2019  TV-MA    44 min   \n",
       "7785    October 31, 2020          2019  TV-PG  1 Season   \n",
       "7786       March 1, 2020          2019  TV-MA    90 min   \n",
       "\n",
       "                                                  listed_in  \\\n",
       "7784  Documentaries, International Movies, Music & Musicals   \n",
       "7785                     International TV Shows, Reality TV   \n",
       "7786                        Documentaries, Music & Musicals   \n",
       "\n",
       "                                                                                              description  \n",
       "7784  In this documentary, South African rapper Nasty C hits the stage and streets of Tokyo, introduci...  \n",
       "7785  Dessert wizard Adriano Zumbo looks for the next “Willy Wonka” in this tense competition that fin...  \n",
       "7786  This documentary delves into the mystique behind the blues-rock trio and explores how the enigma...  "
      ]
     },
     "execution_count": 8,
     "metadata": {},
     "output_type": "execute_result"
    }
   ],
   "source": [
    "# sample rows from netflix dataset\n",
    "netflix_raw_data.tail(3)"
   ]
  },
  {
   "cell_type": "code",
   "execution_count": 9,
   "id": "aware-while",
   "metadata": {},
   "outputs": [
    {
     "data": {
      "text/html": [
       "<div>\n",
       "<style scoped>\n",
       "    .dataframe tbody tr th:only-of-type {\n",
       "        vertical-align: middle;\n",
       "    }\n",
       "\n",
       "    .dataframe tbody tr th {\n",
       "        vertical-align: top;\n",
       "    }\n",
       "\n",
       "    .dataframe thead th {\n",
       "        text-align: right;\n",
       "    }\n",
       "</style>\n",
       "<table border=\"1\" class=\"dataframe\">\n",
       "  <thead>\n",
       "    <tr style=\"text-align: right;\">\n",
       "      <th></th>\n",
       "      <th>Column Name</th>\n",
       "      <th>No. of rows with missing values</th>\n",
       "      <th>Missing value as % (Netflix Dataset)</th>\n",
       "    </tr>\n",
       "  </thead>\n",
       "  <tbody>\n",
       "    <tr>\n",
       "      <th>0</th>\n",
       "      <td>director</td>\n",
       "      <td>2389</td>\n",
       "      <td>30.6793</td>\n",
       "    </tr>\n",
       "    <tr>\n",
       "      <th>1</th>\n",
       "      <td>cast</td>\n",
       "      <td>718</td>\n",
       "      <td>9.2205</td>\n",
       "    </tr>\n",
       "    <tr>\n",
       "      <th>2</th>\n",
       "      <td>country</td>\n",
       "      <td>507</td>\n",
       "      <td>6.5109</td>\n",
       "    </tr>\n",
       "    <tr>\n",
       "      <th>3</th>\n",
       "      <td>date_added</td>\n",
       "      <td>10</td>\n",
       "      <td>0.1284</td>\n",
       "    </tr>\n",
       "    <tr>\n",
       "      <th>4</th>\n",
       "      <td>rating</td>\n",
       "      <td>7</td>\n",
       "      <td>0.0899</td>\n",
       "    </tr>\n",
       "  </tbody>\n",
       "</table>\n",
       "</div>"
      ],
      "text/plain": [
       "  Column Name  No. of rows with missing values  \\\n",
       "0    director                             2389   \n",
       "1        cast                              718   \n",
       "2     country                              507   \n",
       "3  date_added                               10   \n",
       "4      rating                                7   \n",
       "\n",
       "  Missing value as % (Netflix Dataset)  \n",
       "0                              30.6793  \n",
       "1                               9.2205  \n",
       "2                               6.5109  \n",
       "3                               0.1284  \n",
       "4                               0.0899  "
      ]
     },
     "execution_count": 9,
     "metadata": {},
     "output_type": "execute_result"
    }
   ],
   "source": [
    "# this block of code only displays columns which have missing data and the % of rows with the missing values\n",
    "null_column_list = []\n",
    "\n",
    "# total no. of rows in dataset\n",
    "total_rows = netflix_raw_data.shape[0]\n",
    "\n",
    "for each_col in netflix_raw_data.columns:\n",
    "    if netflix_raw_data[each_col].isnull().sum() > 0:\n",
    "        null_sum = netflix_raw_data[each_col].isnull().sum()\n",
    "        null_perc = \"{:.4f}\".format(null_sum / total_rows * 100)\n",
    "        \n",
    "        null_column_list.append([each_col, null_sum, null_perc])\n",
    "        \n",
    "# delete the dummy variable        \n",
    "del total_rows\n",
    "        \n",
    "# display missing row count and % as a dataframe    \n",
    "pd.DataFrame(null_column_list, columns = [\"Column Name\", \"No. of rows with missing values\", \n",
    "                                          \"Missing value as % (Netflix Dataset)\"])"
   ]
  },
  {
   "cell_type": "markdown",
   "id": "successful-instruction",
   "metadata": {},
   "source": [
    "For the date_added column, we can't be sure as to when exactly the show was added to Netflix, so we will simply remove these records. \n",
    "\n",
    "Since the rating column has only 7 values missing, let's identify these titles and try to fill-up the rating column with the help of IMDB. Ofcourse this process is manual."
   ]
  },
  {
   "cell_type": "markdown",
   "id": "sweet-fifty",
   "metadata": {},
   "source": [
    "## Explore Netflix Dataset\n",
    "\n",
    "### type Column"
   ]
  },
  {
   "cell_type": "code",
   "execution_count": 10,
   "id": "bigger-jewelry",
   "metadata": {
    "scrolled": false
   },
   "outputs": [
    {
     "data": {
      "image/png": "[encoded data removed]",
      "text/plain": [
       "<Figure size 864x216 with 1 Axes>"
      ]
     },
     "metadata": {},
     "output_type": "display_data"
    }
   ],
   "source": [
    "fig,ax = plt.subplots(figsize = (12,3))\n",
    "\n",
    "# plot content type as percentage\n",
    "sns.barplot(y = netflix_raw_data[\"type\"].value_counts(normalize = True).index,\n",
    "            x = netflix_raw_data[\"type\"].value_counts(normalize = True).mul(100).values, \n",
    "            ax = ax)\n",
    "\n",
    "ax.set_title(\"Content available on Netflix\")\n",
    "ax.set_xticklabels(\"\")\n",
    "\n",
    "# annotate each bar\n",
    "for p in ax.patches:\n",
    "    ax.annotate(\"{:.2f}%\".format(p.get_width()), [p.get_width()/ 2, p.get_y() + 0.5])\n",
    "    \n",
    "plt.show()    "
   ]
  },
  {
   "cell_type": "markdown",
   "id": "atmospheric-fellowship",
   "metadata": {},
   "source": [
    "### rating Column"
   ]
  },
  {
   "cell_type": "code",
   "execution_count": 11,
   "id": "handy-dover",
   "metadata": {},
   "outputs": [
    {
     "data": {
      "text/html": [
       "<div>\n",
       "<style scoped>\n",
       "    .dataframe tbody tr th:only-of-type {\n",
       "        vertical-align: middle;\n",
       "    }\n",
       "\n",
       "    .dataframe tbody tr th {\n",
       "        vertical-align: top;\n",
       "    }\n",
       "\n",
       "    .dataframe thead th {\n",
       "        text-align: right;\n",
       "    }\n",
       "</style>\n",
       "<table border=\"1\" class=\"dataframe\">\n",
       "  <thead>\n",
       "    <tr style=\"text-align: right;\">\n",
       "      <th></th>\n",
       "      <th>title</th>\n",
       "      <th>director</th>\n",
       "      <th>release_year</th>\n",
       "      <th>rating</th>\n",
       "    </tr>\n",
       "  </thead>\n",
       "  <tbody>\n",
       "    <tr>\n",
       "      <th>67</th>\n",
       "      <td>13TH: A Conversation with Oprah Winfrey &amp; Ava DuVernay</td>\n",
       "      <td>NaN</td>\n",
       "      <td>2017</td>\n",
       "      <td>NaN</td>\n",
       "    </tr>\n",
       "    <tr>\n",
       "      <th>2359</th>\n",
       "      <td>Gargantia on the Verdurous Planet</td>\n",
       "      <td>NaN</td>\n",
       "      <td>2013</td>\n",
       "      <td>NaN</td>\n",
       "    </tr>\n",
       "    <tr>\n",
       "      <th>3660</th>\n",
       "      <td>Little Lunch</td>\n",
       "      <td>NaN</td>\n",
       "      <td>2015</td>\n",
       "      <td>NaN</td>\n",
       "    </tr>\n",
       "    <tr>\n",
       "      <th>3736</th>\n",
       "      <td>Louis C.K. 2017</td>\n",
       "      <td>Louis C.K.</td>\n",
       "      <td>2017</td>\n",
       "      <td>NaN</td>\n",
       "    </tr>\n",
       "    <tr>\n",
       "      <th>3737</th>\n",
       "      <td>Louis C.K.: Hilarious</td>\n",
       "      <td>Louis C.K.</td>\n",
       "      <td>2010</td>\n",
       "      <td>NaN</td>\n",
       "    </tr>\n",
       "    <tr>\n",
       "      <th>3738</th>\n",
       "      <td>Louis C.K.: Live at the Comedy Store</td>\n",
       "      <td>Louis C.K.</td>\n",
       "      <td>2015</td>\n",
       "      <td>NaN</td>\n",
       "    </tr>\n",
       "    <tr>\n",
       "      <th>4323</th>\n",
       "      <td>My Honor Was Loyalty</td>\n",
       "      <td>Alessandro Pepe</td>\n",
       "      <td>2015</td>\n",
       "      <td>NaN</td>\n",
       "    </tr>\n",
       "  </tbody>\n",
       "</table>\n",
       "</div>"
      ],
      "text/plain": [
       "                                                       title         director  \\\n",
       "67    13TH: A Conversation with Oprah Winfrey & Ava DuVernay              NaN   \n",
       "2359                       Gargantia on the Verdurous Planet              NaN   \n",
       "3660                                            Little Lunch              NaN   \n",
       "3736                                         Louis C.K. 2017       Louis C.K.   \n",
       "3737                                   Louis C.K.: Hilarious       Louis C.K.   \n",
       "3738                    Louis C.K.: Live at the Comedy Store       Louis C.K.   \n",
       "4323                                    My Honor Was Loyalty  Alessandro Pepe   \n",
       "\n",
       "      release_year rating  \n",
       "67            2017    NaN  \n",
       "2359          2013    NaN  \n",
       "3660          2015    NaN  \n",
       "3736          2017    NaN  \n",
       "3737          2010    NaN  \n",
       "3738          2015    NaN  \n",
       "4323          2015    NaN  "
      ]
     },
     "execution_count": 11,
     "metadata": {},
     "output_type": "execute_result"
    }
   ],
   "source": [
    "# identify the titles with missing-values\n",
    "netflix_raw_data.loc[netflix_raw_data[\"rating\"].isnull(), [\"title\", \"director\", \"release_year\", \"rating\"]]"
   ]
  },
  {
   "cell_type": "code",
   "execution_count": 12,
   "id": "annoying-construction",
   "metadata": {},
   "outputs": [
    {
     "data": {
      "text/plain": [
       "{'13TH: A Conversation with Oprah Winfrey & Ava DuVernay': 'TV-PG',\n",
       " 'Gargantia on the Verdurous Planet': 'TV-14',\n",
       " 'Little Lunch': 'TV-Y7',\n",
       " 'Louis C.K. 2017': 'TV-MA',\n",
       " 'Louis C.K.: Hilarious': 'TV-MA',\n",
       " 'Louis C.K.: Live at the Comedy Store': 'TV-MA',\n",
       " 'My Honor Was Loyalty': 'PG-13'}"
      ]
     },
     "execution_count": 12,
     "metadata": {},
     "output_type": "execute_result"
    }
   ],
   "source": [
    "# dictionary to map title with ratings (Copied from Mike's work)\n",
    "ratings_map = {idx:val for idx,val in zip(netflix_raw_data.loc[netflix_raw_data[\"rating\"].isnull(), \"title\"].values, \n",
    "                                          [\"TV-PG\", \"TV-14\", \"TV-Y7\", \"TV-MA\", \"TV-MA\", \"TV-MA\", \"PG-13\"])}\n",
    "# display ratings dictionary\n",
    "ratings_map"
   ]
  },
  {
   "cell_type": "code",
   "execution_count": 13,
   "id": "written-cemetery",
   "metadata": {},
   "outputs": [],
   "source": [
    "# replace the missing ratings\n",
    "netflix_raw_data[\"rating\"] = netflix_raw_data[\"title\"].map(ratings_map).fillna(netflix_raw_data[\"rating\"])"
   ]
  },
  {
   "cell_type": "code",
   "execution_count": 14,
   "id": "alternate-interval",
   "metadata": {},
   "outputs": [
    {
     "data": {
      "image/png": "[encoded data removed]",
      "text/plain": [
       "<Figure size 1080x288 with 1 Axes>"
      ]
     },
     "metadata": {},
     "output_type": "display_data"
    }
   ],
   "source": [
    "fig, ax = plt.subplots() # figsize = (15, 5))\n",
    "\n",
    "# plot distribution of titles as % based on the rating column\n",
    "sns.barplot(x = netflix_raw_data[\"rating\"].value_counts(normalize = True).index,\n",
    "            y = netflix_raw_data[\"rating\"].value_counts(normalize = True).mul(100).values, \n",
    "            ax = ax)\n",
    "\n",
    "ax.set_title(\"Rating wise content distribution on Netflix\")\n",
    "ax.set_yticklabels(\"\")\n",
    "\n",
    "for p in ax.patches:\n",
    "    ax.annotate(\"{:.2f}%\".format(p.get_height()), [p.get_x() + 0.1, p.get_height() + 0.5],)\n",
    "\n",
    "sns.despine()\n",
    "plt.show()"
   ]
  },
  {
   "cell_type": "markdown",
   "id": "inclusive-angel",
   "metadata": {},
   "source": [
    "### date_added Column & release Column\n",
    "\n",
    "- The format in netflix dataset for this column is \"Month Day, Year\" and is of object dtype. We will first change this to pandas datetime format\n",
    "- Also, since the column has 10 missing values, we will remove those rows\n",
    "\n",
    "- Can't really trust the release year column since if a title has been running for multiple seasons, netflix dataset may only have the most recent release year"
   ]
  },
  {
   "cell_type": "code",
   "execution_count": 15,
   "id": "hundred-dividend",
   "metadata": {},
   "outputs": [],
   "source": [
    "from datetime import datetime as dt"
   ]
  },
  {
   "cell_type": "code",
   "execution_count": 16,
   "id": "suited-radius",
   "metadata": {
    "scrolled": false
   },
   "outputs": [
    {
     "data": {
      "text/plain": [
       "(7777, 12)"
      ]
     },
     "execution_count": 16,
     "metadata": {},
     "output_type": "execute_result"
    }
   ],
   "source": [
    "# convert to datetime format\n",
    "netflix_raw_data[\"date_added\"] = pd.to_datetime(netflix_raw_data[\"date_added\"])\n",
    "\n",
    "# select only those records where date_added column has values\n",
    "netflix_raw_data = netflix_raw_data[netflix_raw_data[\"date_added\"].notna()]\n",
    "\n",
    "# shape of resultant netflix_raw_data\n",
    "netflix_raw_data.shape"
   ]
  },
  {
   "cell_type": "markdown",
   "id": "terminal-witness",
   "metadata": {},
   "source": [
    "#### Additional Analysis\n",
    "\n",
    "This is a small analysis of:\n",
    "- distribution of titles based on the decade they were released\n",
    "- distribution of titles hosted by Netflix since it's inception\n",
    "\n",
    "For ease of plotting:\n",
    "- the titles that were released before the year 1980, have been grouped under `Before 1980`. Why this year? because I was born in this decade!\n",
    "- since Netflix established itself in 190 countries by 2016, all the titles added (on Netflix platform) before 2016 have been grouped under `Added before 2016`.\n",
    "\n",
    "Tried this analysis with two charts - Pie and Line."
   ]
  },
  {
   "cell_type": "code",
   "execution_count": 17,
   "id": "raised-roulette",
   "metadata": {},
   "outputs": [],
   "source": [
    "# calculate the decade for each year of release\n",
    "decade_df = (netflix_raw_data[\"release_year\"] // 10 * 10).value_counts().reset_index()\n",
    "\n",
    "# rename the dataframe columns\n",
    "decade_df.rename(columns = {\"index\": \"Decade\", \"release_year\" : \"No. of Titles\"}, inplace = True)\n",
    "\n",
    "# identify titles released before the year 1980 \n",
    "decade_df[\"Decade\"] = decade_df[\"Decade\"].apply(lambda d: d if d > 1980 else \"Before 1980\")\n",
    "\n",
    "# label each decade as YYYY's\n",
    "decade_df[\"Decade\"] = decade_df[\"Decade\"].astype(str).apply(lambda s: s + \"'s\")"
   ]
  },
  {
   "cell_type": "code",
   "execution_count": 18,
   "id": "northern-gates",
   "metadata": {},
   "outputs": [
    {
     "data": {
      "image/png": "[encoded data removed]",
      "text/plain": [
       "<Figure size 1080x360 with 2 Axes>"
      ]
     },
     "metadata": {},
     "output_type": "display_data"
    }
   ],
   "source": [
    "fig, ax = plt.subplots(figsize = (15, 5), ncols = 2)\n",
    "\n",
    "# group the no. of titles by decade in which they were released\n",
    "data = decade_df.groupby(\"Decade\")[\"No. of Titles\"].sum()\n",
    "\n",
    "# plot the years when title was released\n",
    "ax[0].pie(x = data.values, \n",
    "          labels = data.index,\n",
    "          autopct = \"%.1f%%\",\n",
    "          explode = [0.03] * len(data),\n",
    "          pctdistance = 0.7)\n",
    "ax[0].set_title(\"Titles by Year of Release\")\n",
    "\n",
    "# group the no. of titles by decade in which they were added to Netflix\n",
    "data = netflix_raw_data[\"date_added\"].dt.year.apply(lambda d: d if d > 2016 else \"Before 2016\").value_counts()\n",
    "\n",
    "# plot the years when title was added\n",
    "ax[1].pie(x = data.values,\n",
    "          labels = data.index,\n",
    "          autopct = \"%.1f%%\",\n",
    "          explode = [0.03] * len(data),\n",
    "          pctdistance = 0.7)\n",
    "ax[1].set_title(\"Titles by Year of Streaming\")\n",
    "\n",
    "plt.show()"
   ]
  },
  {
   "cell_type": "code",
   "execution_count": 19,
   "id": "ongoing-sight",
   "metadata": {
    "scrolled": false
   },
   "outputs": [
    {
     "data": {
      "image/png": "[encoded data removed]",
      "text/plain": [
       "<Figure size 1080x288 with 2 Axes>"
      ]
     },
     "metadata": {},
     "output_type": "display_data"
    }
   ],
   "source": [
    "# Compare release year and the year title was added to Netflix\n",
    "\n",
    "# release year plot\n",
    "sns.lineplot(data = netflix_raw_data[\"release_year\"].value_counts(), marker = \".\")\n",
    "plt.xlabel(\"Year of release\")\n",
    "plt.ylabel(\"No. of titles\")\n",
    "\n",
    "# twin the first plot \n",
    "plt.twiny()\n",
    "\n",
    "# plot for year of addition of title\n",
    "sns.lineplot(data = netflix_raw_data[\"date_added\"].dt.year.value_counts(), marker = \">\")\n",
    "plt.xlabel(\"Year of addition\")\n",
    "\n",
    "plt.title(\"Titles: Release Year vs. Addition on Netflix Year\")\n",
    "\n",
    "# show figure\n",
    "plt.show()"
   ]
  },
  {
   "cell_type": "markdown",
   "id": "excess-distance",
   "metadata": {},
   "source": [
    "### duration Column\n",
    "\n",
    "This column specifies the duration of a title in No. of seasons or runtime in minutes. However, if we analyze the values, the TV Shows are specified with seasons and Movies have runtime minutes. No series has runtime in minutes."
   ]
  },
  {
   "cell_type": "code",
   "execution_count": 20,
   "id": "whole-aluminum",
   "metadata": {},
   "outputs": [
    {
     "name": "stdout",
     "output_type": "stream",
     "text": [
      "TV Show    2400\n",
      "Name: type, dtype: int64 \n",
      "\n",
      "Movie    5377\n",
      "Name: type, dtype: int64\n"
     ]
    }
   ],
   "source": [
    "# title type with duration in seasons\n",
    "print(netflix_raw_data.loc[netflix_raw_data[\"duration\"].str.contains(\"Season\"), \"type\"].value_counts(), \"\\n\")\n",
    "\n",
    "# title type with duration in minutes\n",
    "print(netflix_raw_data.loc[netflix_raw_data[\"duration\"].str.contains(\"min\"), \"type\"].value_counts())"
   ]
  },
  {
   "cell_type": "code",
   "execution_count": 21,
   "id": "naval-reduction",
   "metadata": {},
   "outputs": [
    {
     "data": {
      "text/plain": [
       "1 Season      1608\n",
       "2 Seasons      378\n",
       "3 Seasons      183\n",
       "4 Seasons       86\n",
       "5 Seasons       57\n",
       "6 Seasons       30\n",
       "7 Seasons       19\n",
       "8 Seasons       18\n",
       "9 Seasons        8\n",
       "10 Seasons       5\n",
       "11 Seasons       2\n",
       "15 Seasons       2\n",
       "12 Seasons       2\n",
       "16 Seasons       1\n",
       "13 Seasons       1\n",
       "Name: duration, dtype: int64"
      ]
     },
     "execution_count": 21,
     "metadata": {},
     "output_type": "execute_result"
    }
   ],
   "source": [
    "netflix_raw_data.loc[netflix_raw_data[\"duration\"].str.contains(\"Season\"), \"duration\"].value_counts()"
   ]
  },
  {
   "cell_type": "code",
   "execution_count": 22,
   "id": "joined-music",
   "metadata": {},
   "outputs": [
    {
     "data": {
      "image/png": "[encoded data removed]",
      "text/plain": [
       "<Figure size 1080x288 with 1 Axes>"
      ]
     },
     "metadata": {},
     "output_type": "display_data"
    }
   ],
   "source": [
    "# distribution of runtime in minutes\n",
    "plt.hist(x = netflix_raw_data.loc[netflix_raw_data[\"duration\"].str.contains(\"min\"), \"duration\"].\\\n",
    "         str.strip(\"min\").astype(int), \n",
    "         bins = 50)\n",
    "plt.title(\"Distribution by Runtime Minutes\")\n",
    "plt.show()"
   ]
  },
  {
   "cell_type": "markdown",
   "id": "distinguished-collar",
   "metadata": {},
   "source": [
    "### Section for listed_in Column\n"
   ]
  },
  {
   "cell_type": "code",
   "execution_count": 23,
   "id": "conscious-narrow",
   "metadata": {},
   "outputs": [],
   "source": [
    "# listed_in sample values"
   ]
  },
  {
   "cell_type": "markdown",
   "id": "ranking-kruger",
   "metadata": {},
   "source": [
    "## Tackle the Missing Values\n",
    "\n",
    "Now we come to the big bad boy: Missing Values in 3 columns - Director, Cast and Country of origin of a title. \n",
    "The idea is to try out the best approach and fillin as many missing values as we can."
   ]
  },
  {
   "cell_type": "code",
   "execution_count": 24,
   "id": "incident-tuner",
   "metadata": {},
   "outputs": [],
   "source": [
    "# Set-up directory and Files\n",
    "imdb_dir = os.getcwd() + \"\\\\IMDB_Dataset\\\\\"\n",
    "imdb_file_names = [\"title_akas.tsv\", \"title_basics.tsv\", \"title_crew.tsv\", \"title_principals.tsv\", \"name_basics.tsv\"]"
   ]
  },
  {
   "cell_type": "code",
   "execution_count": 25,
   "id": "reduced-producer",
   "metadata": {},
   "outputs": [],
   "source": [
    "# import the IMDB_work.py module\n",
    "import IMDB_work as iw"
   ]
  },
  {
   "cell_type": "code",
   "execution_count": 26,
   "id": "removable-combine",
   "metadata": {},
   "outputs": [
    {
     "name": "stdout",
     "output_type": "stream",
     "text": [
      "The data file title_basics.tsv contains 7918519 rows and 9 columns\n",
      "------------------------------------------------------------\n",
      "       ColumnName  MissingValue%\n",
      "0          tconst           0.00\n",
      "1       titleType           0.00\n",
      "2    primaryTitle           0.00\n",
      "3   originalTitle           0.00\n",
      "4         isAdult           0.00\n",
      "5       startYear          10.95\n",
      "6         endYear          99.03\n",
      "7  runtimeMinutes          72.08\n",
      "8          genres           7.81\n"
     ]
    }
   ],
   "source": [
    "\"\"\" Read the title_basics.tsv file \"\"\"\n",
    "title_basics = iw.read_imdb_files(file_name = imdb_file_names[1], file_directory = imdb_dir)"
   ]
  },
  {
   "cell_type": "code",
   "execution_count": 27,
   "id": "forty-resource",
   "metadata": {},
   "outputs": [],
   "source": [
    "# split the dataframe with missing and non-missing values\n",
    "missing_df = netflix_raw_data[(netflix_raw_data[\"director\"].isnull()) |\n",
    "                              (netflix_raw_data[\"cast\"].isnull()) |\n",
    "                              (netflix_raw_data[\"country\"].isnull())]\n",
    "\n",
    "netflix_data = netflix_raw_data[(netflix_raw_data[\"director\"].notna()) &\n",
    "                                (netflix_raw_data[\"cast\"].notna()) &\n",
    "                                (netflix_raw_data[\"country\"].notna())]"
   ]
  },
  {
   "cell_type": "code",
   "execution_count": 28,
   "id": "successful-bacon",
   "metadata": {},
   "outputs": [
    {
     "data": {
      "text/plain": [
       "((2965, 12), (4812, 12))"
      ]
     },
     "execution_count": 28,
     "metadata": {},
     "output_type": "execute_result"
    }
   ],
   "source": [
    "missing_df.shape, netflix_data.shape"
   ]
  },
  {
   "cell_type": "markdown",
   "id": "vocational-billy",
   "metadata": {},
   "source": [
    "To compare the common titles between title_basics dataset and missing_df:\n",
    "- both the title and primaryTitle columns have been stripped of any non alpha-numeric characters\n",
    "- the titles have been set to lower case\n",
    "- release_year and startYear columns have been appended to the title name columns respectively"
   ]
  },
  {
   "cell_type": "code",
   "execution_count": 29,
   "id": "authorized-latvia",
   "metadata": {},
   "outputs": [],
   "source": [
    "# Filter out records where primaryTitle ad startYear in imdb_df matches with title and release year from missing_df\n",
    "missing_df_combo = missing_df[\"title\"].str.replace(r\"[^\\w\\s]+\", \"\", regex = True).str.lower().\\\n",
    "                   str.cat(missing_df[\"release_year\"].astype(str))"
   ]
  },
  {
   "cell_type": "code",
   "execution_count": 30,
   "id": "olympic-character",
   "metadata": {},
   "outputs": [],
   "source": [
    "title_basics_combo = title_basics[\"primaryTitle\"].str.replace(r\"[^\\w\\s]+\", \"\", regex = True).str.lower().\\\n",
    "                     str.cat(title_basics[\"startYear\"].astype(str))"
   ]
  },
  {
   "cell_type": "code",
   "execution_count": 31,
   "id": "necessary-story",
   "metadata": {},
   "outputs": [
    {
     "data": {
      "text/plain": [
       "(2780, 9)"
      ]
     },
     "execution_count": 31,
     "metadata": {},
     "output_type": "execute_result"
    }
   ],
   "source": [
    "title_basics[title_basics_combo.isin(missing_df_combo)].shape"
   ]
  }
 ],
 "metadata": {
  "kernelspec": {
   "display_name": "Python 3",
   "language": "python",
   "name": "python3"
  },
  "language_info": {
   "codemirror_mode": {
    "name": "ipython",
    "version": 3
   },
   "file_extension": ".py",
   "mimetype": "text/x-python",
   "name": "python",
   "nbconvert_exporter": "python",
   "pygments_lexer": "ipython3",
   "version": "3.8.3"
  }
 },
 "nbformat": 4,
 "nbformat_minor": 5
}
